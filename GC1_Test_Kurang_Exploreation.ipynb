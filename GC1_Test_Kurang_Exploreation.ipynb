{
  "nbformat": 4,
  "nbformat_minor": 0,
  "metadata": {
    "colab": {
      "provenance": [],
      "collapsed_sections": [
        "w_q6n-4nCkrb",
        "NVRiPeggCqFN",
        "4XHEgM9-v6cz",
        "GAaZVw-30NfG"
      ],
      "authorship_tag": "ABX9TyMh5Xl2PcYmsSPgkitPuJku",
      "include_colab_link": true
    },
    "kernelspec": {
      "name": "python3",
      "display_name": "Python 3"
    },
    "language_info": {
      "name": "python"
    }
  },
  "cells": [
    {
      "cell_type": "markdown",
      "metadata": {
        "id": "view-in-github",
        "colab_type": "text"
      },
      "source": [
        "<a href=\"https://colab.research.google.com/github/stefanusbayuw/hacktiv8/blob/main/GC1_Test_Kurang_Exploreation.ipynb\" target=\"_parent\"><img src=\"https://colab.research.google.com/assets/colab-badge.svg\" alt=\"Open In Colab\"/></a>"
      ]
    },
    {
      "cell_type": "markdown",
      "source": [
        "# Graded Callange 1"
      ],
      "metadata": {
        "id": "9FxsNS-vCaDs"
      }
    },
    {
      "cell_type": "markdown",
      "source": [
        "## Perkenalan\n",
        "\n",
        "Stefanus Bayu Waskito -- FTDS Batch Remote-18\n",
        "\n",
        " Pada data yang akan diiimpor ke colab merupakan data mengenai kasus Covid - 19 yang memiliki kolom berupa `province_state`, `country_region`, `date`, `latitude`, `longitude`, `location_geom`, `confirmed`, `deaths`, `recovered`, `active`, `fips`, `admin2` dan `combined_key`. Dari data yang ada ada beberapa kolom data yang dapat diubah namanya agar memudahkan dalam pengolahan data. Data yang dapat diubah yaitu :\n",
        " \n",
        "\n",
        "*   `location_geom`. `location_geom` dapat diubah namanya menjadi `coordinates` karena nilai yang terdapat di setiap kolom berisi koordinat yang berupa penggabungan anatara longitude dan latitude.\n",
        "*  ` admin2`. `admin2` dapat diubah menjadi `city_name` karena yang string berisi nama kota. \n",
        "*   `combined_key`. `combined key` berisi penggabungan isi cell dari kolom `province_state`, `country_region` dan `city_name` maka combined_key diubah namanya menjadi `location`.\n",
        "\n",
        "Setelah melakukan perubahan nama kolom dengan tujuan mempermudah dalam pengolahan data, selanjutnya dilakukan manipulasi dengan menghapus kolom yang sekiranya tidak diperlukan dalam pengolahan data. Kolom yang akan dihapus yaitu:\n",
        "*   `latitude` dihapus karena kolom tersebut merupakan kolom lintang yang mana nilai dari kolom tersebut sudah ada dalam `coordinates`\n",
        "*   `longitude` dihapus karena kolom tersebut merupakan kolom bujur yang mana nilai dari kolom tersebut sudah ada dalam `coordinates`.\n",
        "*   `fips` dihapus karena isi data `fips` adalah 5 digit kode wilayah yang hanya ditemukan di Amerika. Pada tabel, kode fips juga ditemukan hanya pada `country_region` yang bernilai/beisi 'US' selain itu tidak ditemukan kode fips.\n",
        "\n",
        "Setelah proses penghapusan kolom yang tidak diperlukan dan melakukan perubahan nama kolom yang bertujuan mempermudah dalam pengolahan data, yang dilakukan selanjutnya adalah mengisi nilai null dan NaN pada kolom `city_name` dan `province_state`. Pada `city_name` nilai null dan NaN diisi dengan City sedangkan pada `province_state` diisi dengan Province. Mengapa nilai null dan NaN pada `city_name` dan `province_state` tidek dihapus saja? Mengisi nilai null dan NaN dilakukan karena setiap lokasi sudah memiliki koordinat tertentu sehingga kita dapat membedakan lokasi berdasarkan `coordinates`.\n",
        "\n",
        "Query SQL untuk eksplorasi awal :\n",
        "*   `SELECT * FROM bigquery-public-data.covid19_jhu_csse.summary /*Menmpilkan  preview data dari tabel Summary dengan*/`\n",
        "*   `select count(distinct(province_state)) from bigquery-public-data.covid19_jhu_csse.summary /*Menampilkan jumlah data preview_state dari tabel summary yang menampilkan data sebanyak 759 data berupa list nama propinsi yang berarti ada 759 nama propinsi yang ada dalam kolom*/`\n",
        "*   `select count(province_state) from bigquery-public-data.covid19_jhu_csse.summary /*Menampilkan  jumlah semua data preview_state dari tabel summary yang menampilkan data sebanyak 3.937.894 data berupa nama propinsi */`\n",
        "*   `select count(distinct(country_region)) from bigquery-public-data.covid19_jhu_csse.summary /*Menampilkan  jumlah data coutry_region dari tabel summary yang output nya menampilkan total sebanyak 252 data berupa nama negara yang berarti ada 252 negara yang ada dalam kolom*/`\n",
        "*   `select count(country_region) from bigquery-public-data.covid19_jhu_csse.summary /*Menampilkan  jumlah data preview_state dari tabel summary yang menampilkan data sebanyak 4.123.519 data berupa list nama propinsi */`\n",
        "*   `select min(date) from bigquery-public-data.covid19_jhu_csse.summary/*Menampilkan data dengan nilai minimum, maksud minimum disini adalah tanggal paling awal di kolom data yaitu tanggal 2020-01-22*/`\n",
        "*   `select max(date) from bigquery-public-data.covid19_jhu_csse.summary /*Menampilkan data dengan nilai maksimum, maksud mmaksimum disini adalah tanggal paling akhir (data yang diinput paling baru) di kolom data yaitu tanggal 2023-02-02*/`\n",
        "*   `select count(distinct(date)) from bigquery-public-data.covid19_jhu_csse.summary where date between '2020-01-22' and '2023-02-02' /*mencari range dari antara data tanggal awal samapi tanggal akhir dimasukkan. Terdapat total 1108 hari dari tanggal awal sampai akhir*/`\n",
        "*   `select sum(confirmed) from bigquery-public-data.covid19_jhu_csse.summary/*menghitung total keseluruhan total yang terkonfirmasi positif covid19 di tabel summary dengan asumsi data tercatat antara tanggal 2020-01-22 sampai dengan 2023-02-02 dengan total keseluruhan konfirmasi positif sebanyak 292.975.622.316*/`\n",
        "*   `select sum(deaths) from bigquery-public-data.covid19_jhu_csse.summary/*menghitung total keseluruhan total yang meninggal akibat covid19 di tabel summary dengan asumsi data tercatat antara tanggal 2020-01-22 sampai dengan 2023-02-02 dengan total keseluruhan meninggal sebanyak 4.136.071.911*/`\n",
        "*   `select round(avg(active)) from bigquery-public-data.covid19_jhu_csse.summary /*mengetahui rataan kasus aktif dari tabel summary yaitu sebanyak 6557 kasus. Penggunaan round() disini digunakan untuk membulatkan nilai hasil rataan*/`\n",
        "*   `select count(country_region) from bigquery-public-data.covid19_jhu_csse.summary where fips is null /*menghitung jumlah data di kolom country_region yang fips-nya null. Total 739.155 kolom di country_region yang fips = null*/`\n",
        "*   `select count(country_region) from bigquery-public-data.covid19_jhu_csse.summary where country_region = 'US' /*menghitung jumlah data di kolom country_region yang berisi string 'US'. Total 3.401.792 kolom di country_region yang berisi 'US'*/`\n",
        "*   `select count(country_region) from bigquery-public-data.covid19_jhu_csse.summary where country_region != 'US' /*menghitung jumlah data di kolom country_region yang berisi string selain 'US'. Total 725.734 kolom di country_region yang berisi string selain 'US'*/`\n",
        "*   `select count(country_region) from bigquery-public-data.covid19_jhu_csse.summary /*menghitung jumlah data di kolom country_region*/`\n",
        "\n",
        "\n",
        "\n",
        "\n",
        "\n",
        "\n",
        "\n",
        "\n",
        "\n",
        "\n",
        "\n",
        "\n",
        "\n",
        "\n",
        "\n",
        "\n",
        "\n",
        "\n",
        "\n",
        "\n",
        "\n",
        "\n",
        "\n",
        "\n"
      ],
      "metadata": {
        "id": "2u0bqa2PQoa1"
      }
    },
    {
      "cell_type": "markdown",
      "source": [
        "## Import Library"
      ],
      "metadata": {
        "id": "w_q6n-4nCkrb"
      }
    },
    {
      "cell_type": "code",
      "execution_count": 1,
      "metadata": {
        "id": "TsTh43FQ7T3a"
      },
      "outputs": [],
      "source": [
        "import pandas as pd\n",
        "import numpy as np"
      ]
    },
    {
      "cell_type": "markdown",
      "source": [
        "## Data Loading\n",
        "\n",
        "Import Data \"`[h8dsft_P0GC1_Stefanus-Bayu-Waskito.csv]`\" dari Google Drive."
      ],
      "metadata": {
        "id": "NVRiPeggCqFN"
      }
    },
    {
      "cell_type": "code",
      "source": [
        "from google.colab import drive\n",
        "drive.mount('/content/gdrive')"
      ],
      "metadata": {
        "colab": {
          "base_uri": "https://localhost:8080/"
        },
        "id": "QbwJN1VD7u7o",
        "outputId": "4c34bc1b-3ab5-49a1-d82b-46c7bdd8d6bf"
      },
      "execution_count": 26,
      "outputs": [
        {
          "output_type": "stream",
          "name": "stdout",
          "text": [
            "Drive already mounted at /content/gdrive; to attempt to forcibly remount, call drive.mount(\"/content/gdrive\", force_remount=True).\n"
          ]
        }
      ]
    },
    {
      "cell_type": "code",
      "source": [
        "df=pd.read_csv('gdrive/My Drive/Hacktiv8/h8dsft_P0GC1_Stefanus-Bayu-Waskito.csv')"
      ],
      "metadata": {
        "id": "sgVfiN09A_uw"
      },
      "execution_count": 27,
      "outputs": []
    },
    {
      "cell_type": "markdown",
      "source": [
        "### Eksplorasi Data Sederhana"
      ],
      "metadata": {
        "id": "stIHJElELOmG"
      }
    },
    {
      "cell_type": "code",
      "source": [
        "df.shape"
      ],
      "metadata": {
        "colab": {
          "base_uri": "https://localhost:8080/"
        },
        "id": "BNsStOdsBk8_",
        "outputId": "d2db417c-25ae-4cda-ab3f-45da1b096692"
      },
      "execution_count": 28,
      "outputs": [
        {
          "output_type": "execute_result",
          "data": {
            "text/plain": [
              "(4127536, 13)"
            ]
          },
          "metadata": {},
          "execution_count": 28
        }
      ]
    },
    {
      "cell_type": "markdown",
      "source": [
        "`df.shape` digunakan untuk menampilkan jumlah keseluruhan kolom dan baris data dari file .csv yang telah diimport ke jupyter notebook. Pada dataframe terdapat 4.127.536 baris data dan 13 kolom."
      ],
      "metadata": {
        "id": "kBbGmmK9DG2y"
      }
    },
    {
      "cell_type": "code",
      "source": [
        "df.head(10)"
      ],
      "metadata": {
        "colab": {
          "base_uri": "https://localhost:8080/",
          "height": 407
        },
        "id": "yyapFxE0B1hh",
        "outputId": "925eb3d5-ae7c-427b-a3af-a88e57026952"
      },
      "execution_count": 29,
      "outputs": [
        {
          "output_type": "execute_result",
          "data": {
            "text/plain": [
              "  province_state country_region        date   latitude  longitude  \\\n",
              "0      Minnesota             US  2022-07-07  47.871975 -96.095611   \n",
              "1      Minnesota             US  2022-07-07  44.728364 -94.945537   \n",
              "2      Minnesota             US  2022-07-07  47.604841 -92.468799   \n",
              "3      Minnesota             US  2022-07-07  44.022404 -93.226271   \n",
              "4      Minnesota             US  2022-07-07  45.586130 -96.001637   \n",
              "5      Minnesota             US  2022-07-07  46.585892 -94.969685   \n",
              "6      Minnesota             US  2022-07-07  45.038645 -92.884296   \n",
              "7    Mississippi             US  2022-07-07  34.880845 -88.579962   \n",
              "8    Mississippi             US  2022-07-07  33.086588 -89.578386   \n",
              "9    Mississippi             US  2022-07-07  34.816812 -89.189455   \n",
              "\n",
              "                     location_geom  confirmed  deaths  recovered  active  \\\n",
              "0  POINT(-96.09561104 47.87197525)      964.0    13.0        NaN     NaN   \n",
              "1  POINT(-94.94553734 44.72836381)     3936.0    58.0        NaN     NaN   \n",
              "2   POINT(-92.46879855 47.6048407)    52168.0   548.0        NaN     NaN   \n",
              "3  POINT(-93.22627088 44.02240351)    10974.0    63.0        NaN     NaN   \n",
              "4  POINT(-96.00163705 45.58613007)     2844.0    14.0        NaN     NaN   \n",
              "5  POINT(-94.96968506 46.58589171)     4442.0    58.0        NaN     NaN   \n",
              "6  POINT(-92.88429635 45.03864533)    73267.0   495.0        NaN     NaN   \n",
              "7  POINT(-88.57996173 34.88084463)    10423.0   161.0        NaN     NaN   \n",
              "8  POINT(-89.57838564 33.08658803)     5578.0   114.0        NaN     NaN   \n",
              "9  POINT(-89.18945516 34.81681228)     2353.0    49.0        NaN     NaN   \n",
              "\n",
              "      fips      admin2               combined_key  \n",
              "0  27125.0    Red Lake    Red Lake, Minnesota, US  \n",
              "1  27129.0    Renville    Renville, Minnesota, US  \n",
              "2  27137.0   St. Louis   St. Louis, Minnesota, US  \n",
              "3  27147.0      Steele      Steele, Minnesota, US  \n",
              "4  27149.0     Stevens     Stevens, Minnesota, US  \n",
              "5  27159.0      Wadena      Wadena, Minnesota, US  \n",
              "6  27163.0  Washington  Washington, Minnesota, US  \n",
              "7  28003.0      Alcorn    Alcorn, Mississippi, US  \n",
              "8  28007.0      Attala    Attala, Mississippi, US  \n",
              "9  28009.0      Benton    Benton, Mississippi, US  "
            ],
            "text/html": [
              "\n",
              "  <div id=\"df-cab1e0ed-56d1-41ac-92ac-95187fe2ee98\">\n",
              "    <div class=\"colab-df-container\">\n",
              "      <div>\n",
              "<style scoped>\n",
              "    .dataframe tbody tr th:only-of-type {\n",
              "        vertical-align: middle;\n",
              "    }\n",
              "\n",
              "    .dataframe tbody tr th {\n",
              "        vertical-align: top;\n",
              "    }\n",
              "\n",
              "    .dataframe thead th {\n",
              "        text-align: right;\n",
              "    }\n",
              "</style>\n",
              "<table border=\"1\" class=\"dataframe\">\n",
              "  <thead>\n",
              "    <tr style=\"text-align: right;\">\n",
              "      <th></th>\n",
              "      <th>province_state</th>\n",
              "      <th>country_region</th>\n",
              "      <th>date</th>\n",
              "      <th>latitude</th>\n",
              "      <th>longitude</th>\n",
              "      <th>location_geom</th>\n",
              "      <th>confirmed</th>\n",
              "      <th>deaths</th>\n",
              "      <th>recovered</th>\n",
              "      <th>active</th>\n",
              "      <th>fips</th>\n",
              "      <th>admin2</th>\n",
              "      <th>combined_key</th>\n",
              "    </tr>\n",
              "  </thead>\n",
              "  <tbody>\n",
              "    <tr>\n",
              "      <th>0</th>\n",
              "      <td>Minnesota</td>\n",
              "      <td>US</td>\n",
              "      <td>2022-07-07</td>\n",
              "      <td>47.871975</td>\n",
              "      <td>-96.095611</td>\n",
              "      <td>POINT(-96.09561104 47.87197525)</td>\n",
              "      <td>964.0</td>\n",
              "      <td>13.0</td>\n",
              "      <td>NaN</td>\n",
              "      <td>NaN</td>\n",
              "      <td>27125.0</td>\n",
              "      <td>Red Lake</td>\n",
              "      <td>Red Lake, Minnesota, US</td>\n",
              "    </tr>\n",
              "    <tr>\n",
              "      <th>1</th>\n",
              "      <td>Minnesota</td>\n",
              "      <td>US</td>\n",
              "      <td>2022-07-07</td>\n",
              "      <td>44.728364</td>\n",
              "      <td>-94.945537</td>\n",
              "      <td>POINT(-94.94553734 44.72836381)</td>\n",
              "      <td>3936.0</td>\n",
              "      <td>58.0</td>\n",
              "      <td>NaN</td>\n",
              "      <td>NaN</td>\n",
              "      <td>27129.0</td>\n",
              "      <td>Renville</td>\n",
              "      <td>Renville, Minnesota, US</td>\n",
              "    </tr>\n",
              "    <tr>\n",
              "      <th>2</th>\n",
              "      <td>Minnesota</td>\n",
              "      <td>US</td>\n",
              "      <td>2022-07-07</td>\n",
              "      <td>47.604841</td>\n",
              "      <td>-92.468799</td>\n",
              "      <td>POINT(-92.46879855 47.6048407)</td>\n",
              "      <td>52168.0</td>\n",
              "      <td>548.0</td>\n",
              "      <td>NaN</td>\n",
              "      <td>NaN</td>\n",
              "      <td>27137.0</td>\n",
              "      <td>St. Louis</td>\n",
              "      <td>St. Louis, Minnesota, US</td>\n",
              "    </tr>\n",
              "    <tr>\n",
              "      <th>3</th>\n",
              "      <td>Minnesota</td>\n",
              "      <td>US</td>\n",
              "      <td>2022-07-07</td>\n",
              "      <td>44.022404</td>\n",
              "      <td>-93.226271</td>\n",
              "      <td>POINT(-93.22627088 44.02240351)</td>\n",
              "      <td>10974.0</td>\n",
              "      <td>63.0</td>\n",
              "      <td>NaN</td>\n",
              "      <td>NaN</td>\n",
              "      <td>27147.0</td>\n",
              "      <td>Steele</td>\n",
              "      <td>Steele, Minnesota, US</td>\n",
              "    </tr>\n",
              "    <tr>\n",
              "      <th>4</th>\n",
              "      <td>Minnesota</td>\n",
              "      <td>US</td>\n",
              "      <td>2022-07-07</td>\n",
              "      <td>45.586130</td>\n",
              "      <td>-96.001637</td>\n",
              "      <td>POINT(-96.00163705 45.58613007)</td>\n",
              "      <td>2844.0</td>\n",
              "      <td>14.0</td>\n",
              "      <td>NaN</td>\n",
              "      <td>NaN</td>\n",
              "      <td>27149.0</td>\n",
              "      <td>Stevens</td>\n",
              "      <td>Stevens, Minnesota, US</td>\n",
              "    </tr>\n",
              "    <tr>\n",
              "      <th>5</th>\n",
              "      <td>Minnesota</td>\n",
              "      <td>US</td>\n",
              "      <td>2022-07-07</td>\n",
              "      <td>46.585892</td>\n",
              "      <td>-94.969685</td>\n",
              "      <td>POINT(-94.96968506 46.58589171)</td>\n",
              "      <td>4442.0</td>\n",
              "      <td>58.0</td>\n",
              "      <td>NaN</td>\n",
              "      <td>NaN</td>\n",
              "      <td>27159.0</td>\n",
              "      <td>Wadena</td>\n",
              "      <td>Wadena, Minnesota, US</td>\n",
              "    </tr>\n",
              "    <tr>\n",
              "      <th>6</th>\n",
              "      <td>Minnesota</td>\n",
              "      <td>US</td>\n",
              "      <td>2022-07-07</td>\n",
              "      <td>45.038645</td>\n",
              "      <td>-92.884296</td>\n",
              "      <td>POINT(-92.88429635 45.03864533)</td>\n",
              "      <td>73267.0</td>\n",
              "      <td>495.0</td>\n",
              "      <td>NaN</td>\n",
              "      <td>NaN</td>\n",
              "      <td>27163.0</td>\n",
              "      <td>Washington</td>\n",
              "      <td>Washington, Minnesota, US</td>\n",
              "    </tr>\n",
              "    <tr>\n",
              "      <th>7</th>\n",
              "      <td>Mississippi</td>\n",
              "      <td>US</td>\n",
              "      <td>2022-07-07</td>\n",
              "      <td>34.880845</td>\n",
              "      <td>-88.579962</td>\n",
              "      <td>POINT(-88.57996173 34.88084463)</td>\n",
              "      <td>10423.0</td>\n",
              "      <td>161.0</td>\n",
              "      <td>NaN</td>\n",
              "      <td>NaN</td>\n",
              "      <td>28003.0</td>\n",
              "      <td>Alcorn</td>\n",
              "      <td>Alcorn, Mississippi, US</td>\n",
              "    </tr>\n",
              "    <tr>\n",
              "      <th>8</th>\n",
              "      <td>Mississippi</td>\n",
              "      <td>US</td>\n",
              "      <td>2022-07-07</td>\n",
              "      <td>33.086588</td>\n",
              "      <td>-89.578386</td>\n",
              "      <td>POINT(-89.57838564 33.08658803)</td>\n",
              "      <td>5578.0</td>\n",
              "      <td>114.0</td>\n",
              "      <td>NaN</td>\n",
              "      <td>NaN</td>\n",
              "      <td>28007.0</td>\n",
              "      <td>Attala</td>\n",
              "      <td>Attala, Mississippi, US</td>\n",
              "    </tr>\n",
              "    <tr>\n",
              "      <th>9</th>\n",
              "      <td>Mississippi</td>\n",
              "      <td>US</td>\n",
              "      <td>2022-07-07</td>\n",
              "      <td>34.816812</td>\n",
              "      <td>-89.189455</td>\n",
              "      <td>POINT(-89.18945516 34.81681228)</td>\n",
              "      <td>2353.0</td>\n",
              "      <td>49.0</td>\n",
              "      <td>NaN</td>\n",
              "      <td>NaN</td>\n",
              "      <td>28009.0</td>\n",
              "      <td>Benton</td>\n",
              "      <td>Benton, Mississippi, US</td>\n",
              "    </tr>\n",
              "  </tbody>\n",
              "</table>\n",
              "</div>\n",
              "      <button class=\"colab-df-convert\" onclick=\"convertToInteractive('df-cab1e0ed-56d1-41ac-92ac-95187fe2ee98')\"\n",
              "              title=\"Convert this dataframe to an interactive table.\"\n",
              "              style=\"display:none;\">\n",
              "        \n",
              "  <svg xmlns=\"http://www.w3.org/2000/svg\" height=\"24px\"viewBox=\"0 0 24 24\"\n",
              "       width=\"24px\">\n",
              "    <path d=\"M0 0h24v24H0V0z\" fill=\"none\"/>\n",
              "    <path d=\"M18.56 5.44l.94 2.06.94-2.06 2.06-.94-2.06-.94-.94-2.06-.94 2.06-2.06.94zm-11 1L8.5 8.5l.94-2.06 2.06-.94-2.06-.94L8.5 2.5l-.94 2.06-2.06.94zm10 10l.94 2.06.94-2.06 2.06-.94-2.06-.94-.94-2.06-.94 2.06-2.06.94z\"/><path d=\"M17.41 7.96l-1.37-1.37c-.4-.4-.92-.59-1.43-.59-.52 0-1.04.2-1.43.59L10.3 9.45l-7.72 7.72c-.78.78-.78 2.05 0 2.83L4 21.41c.39.39.9.59 1.41.59.51 0 1.02-.2 1.41-.59l7.78-7.78 2.81-2.81c.8-.78.8-2.07 0-2.86zM5.41 20L4 18.59l7.72-7.72 1.47 1.35L5.41 20z\"/>\n",
              "  </svg>\n",
              "      </button>\n",
              "      \n",
              "  <style>\n",
              "    .colab-df-container {\n",
              "      display:flex;\n",
              "      flex-wrap:wrap;\n",
              "      gap: 12px;\n",
              "    }\n",
              "\n",
              "    .colab-df-convert {\n",
              "      background-color: #E8F0FE;\n",
              "      border: none;\n",
              "      border-radius: 50%;\n",
              "      cursor: pointer;\n",
              "      display: none;\n",
              "      fill: #1967D2;\n",
              "      height: 32px;\n",
              "      padding: 0 0 0 0;\n",
              "      width: 32px;\n",
              "    }\n",
              "\n",
              "    .colab-df-convert:hover {\n",
              "      background-color: #E2EBFA;\n",
              "      box-shadow: 0px 1px 2px rgba(60, 64, 67, 0.3), 0px 1px 3px 1px rgba(60, 64, 67, 0.15);\n",
              "      fill: #174EA6;\n",
              "    }\n",
              "\n",
              "    [theme=dark] .colab-df-convert {\n",
              "      background-color: #3B4455;\n",
              "      fill: #D2E3FC;\n",
              "    }\n",
              "\n",
              "    [theme=dark] .colab-df-convert:hover {\n",
              "      background-color: #434B5C;\n",
              "      box-shadow: 0px 1px 3px 1px rgba(0, 0, 0, 0.15);\n",
              "      filter: drop-shadow(0px 1px 2px rgba(0, 0, 0, 0.3));\n",
              "      fill: #FFFFFF;\n",
              "    }\n",
              "  </style>\n",
              "\n",
              "      <script>\n",
              "        const buttonEl =\n",
              "          document.querySelector('#df-cab1e0ed-56d1-41ac-92ac-95187fe2ee98 button.colab-df-convert');\n",
              "        buttonEl.style.display =\n",
              "          google.colab.kernel.accessAllowed ? 'block' : 'none';\n",
              "\n",
              "        async function convertToInteractive(key) {\n",
              "          const element = document.querySelector('#df-cab1e0ed-56d1-41ac-92ac-95187fe2ee98');\n",
              "          const dataTable =\n",
              "            await google.colab.kernel.invokeFunction('convertToInteractive',\n",
              "                                                     [key], {});\n",
              "          if (!dataTable) return;\n",
              "\n",
              "          const docLinkHtml = 'Like what you see? Visit the ' +\n",
              "            '<a target=\"_blank\" href=https://colab.research.google.com/notebooks/data_table.ipynb>data table notebook</a>'\n",
              "            + ' to learn more about interactive tables.';\n",
              "          element.innerHTML = '';\n",
              "          dataTable['output_type'] = 'display_data';\n",
              "          await google.colab.output.renderOutput(dataTable, element);\n",
              "          const docLink = document.createElement('div');\n",
              "          docLink.innerHTML = docLinkHtml;\n",
              "          element.appendChild(docLink);\n",
              "        }\n",
              "      </script>\n",
              "    </div>\n",
              "  </div>\n",
              "  "
            ]
          },
          "metadata": {},
          "execution_count": 29
        }
      ]
    },
    {
      "cell_type": "markdown",
      "source": [
        "`df.head(10)` digunakan untuk menampilkan 10 indeks teratas dari data frame."
      ],
      "metadata": {
        "id": "aMhpwI83Dn2n"
      }
    },
    {
      "cell_type": "code",
      "source": [
        "df.tail(10)"
      ],
      "metadata": {
        "colab": {
          "base_uri": "https://localhost:8080/",
          "height": 580
        },
        "id": "6O4X2sdsB4YM",
        "outputId": "3fe23412-fc57-4fa0-e869-014dd82acf81"
      },
      "execution_count": 30,
      "outputs": [
        {
          "output_type": "execute_result",
          "data": {
            "text/plain": [
              "        province_state country_region        date   latitude  longitude  \\\n",
              "4127526    Puerto Rico             US  2022-02-25  18.059498 -66.613748   \n",
              "4127527    Puerto Rico             US  2022-02-25  18.010387 -66.256592   \n",
              "4127528    Puerto Rico             US  2022-02-25  18.147987 -65.976392   \n",
              "4127529    Puerto Rico             US  2022-02-25  18.431446 -66.213553   \n",
              "4127530    Puerto Rico             US  2022-02-25  18.271214 -66.702984   \n",
              "4127531    Puerto Rico             US  2022-02-25  18.409346 -66.337250   \n",
              "4127532    Puerto Rico             US  2022-02-25  18.428262 -66.397924   \n",
              "4127533    Puerto Rico             US  2022-02-25  18.070399 -65.896289   \n",
              "4127534    Puerto Rico             US  2022-02-25  18.080374 -66.858814   \n",
              "4127535   Rhode Island             US  2022-02-25  41.671063 -71.576416   \n",
              "\n",
              "                           location_geom  confirmed  deaths  recovered  \\\n",
              "4127526      POINT(-66.613748 18.059498)    16265.0     0.0        NaN   \n",
              "4127527      POINT(-66.256592 18.010387)     2882.0     0.0        NaN   \n",
              "4127528      POINT(-65.976392 18.147987)     4926.0     0.0        NaN   \n",
              "4127529      POINT(-66.213553 18.431446)    11410.0     0.0        NaN   \n",
              "4127530      POINT(-66.702984 18.271214)     3019.0     0.0        NaN   \n",
              "4127531       POINT(-66.33725 18.409346)     5513.0     0.0        NaN   \n",
              "4127532      POINT(-66.397924 18.428262)     9581.0     0.0        NaN   \n",
              "4127533      POINT(-65.896289 18.070399)     3924.0     0.0        NaN   \n",
              "4127534      POINT(-66.858814 18.080374)     3660.0     0.0        NaN   \n",
              "4127535  POINT(-71.57641596 41.67106337)    47000.0   488.0        NaN   \n",
              "\n",
              "         active     fips       admin2                  combined_key  \n",
              "4127526     NaN  72113.0        Ponce        Ponce, Puerto Rico, US  \n",
              "4127527     NaN  72123.0      Salinas      Salinas, Puerto Rico, US  \n",
              "4127528     NaN  72129.0  San Lorenzo  San Lorenzo, Puerto Rico, US  \n",
              "4127529     NaN  72137.0     Toa Baja     Toa Baja, Puerto Rico, US  \n",
              "4127530     NaN  72141.0       Utuado       Utuado, Puerto Rico, US  \n",
              "4127531     NaN  72143.0    Vega Alta    Vega Alta, Puerto Rico, US  \n",
              "4127532     NaN  72145.0    Vega Baja    Vega Baja, Puerto Rico, US  \n",
              "4127533     NaN  72151.0      Yabucoa      Yabucoa, Puerto Rico, US  \n",
              "4127534     NaN  72153.0        Yauco        Yauco, Puerto Rico, US  \n",
              "4127535     NaN  44003.0         Kent        Kent, Rhode Island, US  "
            ],
            "text/html": [
              "\n",
              "  <div id=\"df-4f03184c-9ae6-4639-9e57-1b807d100e3a\">\n",
              "    <div class=\"colab-df-container\">\n",
              "      <div>\n",
              "<style scoped>\n",
              "    .dataframe tbody tr th:only-of-type {\n",
              "        vertical-align: middle;\n",
              "    }\n",
              "\n",
              "    .dataframe tbody tr th {\n",
              "        vertical-align: top;\n",
              "    }\n",
              "\n",
              "    .dataframe thead th {\n",
              "        text-align: right;\n",
              "    }\n",
              "</style>\n",
              "<table border=\"1\" class=\"dataframe\">\n",
              "  <thead>\n",
              "    <tr style=\"text-align: right;\">\n",
              "      <th></th>\n",
              "      <th>province_state</th>\n",
              "      <th>country_region</th>\n",
              "      <th>date</th>\n",
              "      <th>latitude</th>\n",
              "      <th>longitude</th>\n",
              "      <th>location_geom</th>\n",
              "      <th>confirmed</th>\n",
              "      <th>deaths</th>\n",
              "      <th>recovered</th>\n",
              "      <th>active</th>\n",
              "      <th>fips</th>\n",
              "      <th>admin2</th>\n",
              "      <th>combined_key</th>\n",
              "    </tr>\n",
              "  </thead>\n",
              "  <tbody>\n",
              "    <tr>\n",
              "      <th>4127526</th>\n",
              "      <td>Puerto Rico</td>\n",
              "      <td>US</td>\n",
              "      <td>2022-02-25</td>\n",
              "      <td>18.059498</td>\n",
              "      <td>-66.613748</td>\n",
              "      <td>POINT(-66.613748 18.059498)</td>\n",
              "      <td>16265.0</td>\n",
              "      <td>0.0</td>\n",
              "      <td>NaN</td>\n",
              "      <td>NaN</td>\n",
              "      <td>72113.0</td>\n",
              "      <td>Ponce</td>\n",
              "      <td>Ponce, Puerto Rico, US</td>\n",
              "    </tr>\n",
              "    <tr>\n",
              "      <th>4127527</th>\n",
              "      <td>Puerto Rico</td>\n",
              "      <td>US</td>\n",
              "      <td>2022-02-25</td>\n",
              "      <td>18.010387</td>\n",
              "      <td>-66.256592</td>\n",
              "      <td>POINT(-66.256592 18.010387)</td>\n",
              "      <td>2882.0</td>\n",
              "      <td>0.0</td>\n",
              "      <td>NaN</td>\n",
              "      <td>NaN</td>\n",
              "      <td>72123.0</td>\n",
              "      <td>Salinas</td>\n",
              "      <td>Salinas, Puerto Rico, US</td>\n",
              "    </tr>\n",
              "    <tr>\n",
              "      <th>4127528</th>\n",
              "      <td>Puerto Rico</td>\n",
              "      <td>US</td>\n",
              "      <td>2022-02-25</td>\n",
              "      <td>18.147987</td>\n",
              "      <td>-65.976392</td>\n",
              "      <td>POINT(-65.976392 18.147987)</td>\n",
              "      <td>4926.0</td>\n",
              "      <td>0.0</td>\n",
              "      <td>NaN</td>\n",
              "      <td>NaN</td>\n",
              "      <td>72129.0</td>\n",
              "      <td>San Lorenzo</td>\n",
              "      <td>San Lorenzo, Puerto Rico, US</td>\n",
              "    </tr>\n",
              "    <tr>\n",
              "      <th>4127529</th>\n",
              "      <td>Puerto Rico</td>\n",
              "      <td>US</td>\n",
              "      <td>2022-02-25</td>\n",
              "      <td>18.431446</td>\n",
              "      <td>-66.213553</td>\n",
              "      <td>POINT(-66.213553 18.431446)</td>\n",
              "      <td>11410.0</td>\n",
              "      <td>0.0</td>\n",
              "      <td>NaN</td>\n",
              "      <td>NaN</td>\n",
              "      <td>72137.0</td>\n",
              "      <td>Toa Baja</td>\n",
              "      <td>Toa Baja, Puerto Rico, US</td>\n",
              "    </tr>\n",
              "    <tr>\n",
              "      <th>4127530</th>\n",
              "      <td>Puerto Rico</td>\n",
              "      <td>US</td>\n",
              "      <td>2022-02-25</td>\n",
              "      <td>18.271214</td>\n",
              "      <td>-66.702984</td>\n",
              "      <td>POINT(-66.702984 18.271214)</td>\n",
              "      <td>3019.0</td>\n",
              "      <td>0.0</td>\n",
              "      <td>NaN</td>\n",
              "      <td>NaN</td>\n",
              "      <td>72141.0</td>\n",
              "      <td>Utuado</td>\n",
              "      <td>Utuado, Puerto Rico, US</td>\n",
              "    </tr>\n",
              "    <tr>\n",
              "      <th>4127531</th>\n",
              "      <td>Puerto Rico</td>\n",
              "      <td>US</td>\n",
              "      <td>2022-02-25</td>\n",
              "      <td>18.409346</td>\n",
              "      <td>-66.337250</td>\n",
              "      <td>POINT(-66.33725 18.409346)</td>\n",
              "      <td>5513.0</td>\n",
              "      <td>0.0</td>\n",
              "      <td>NaN</td>\n",
              "      <td>NaN</td>\n",
              "      <td>72143.0</td>\n",
              "      <td>Vega Alta</td>\n",
              "      <td>Vega Alta, Puerto Rico, US</td>\n",
              "    </tr>\n",
              "    <tr>\n",
              "      <th>4127532</th>\n",
              "      <td>Puerto Rico</td>\n",
              "      <td>US</td>\n",
              "      <td>2022-02-25</td>\n",
              "      <td>18.428262</td>\n",
              "      <td>-66.397924</td>\n",
              "      <td>POINT(-66.397924 18.428262)</td>\n",
              "      <td>9581.0</td>\n",
              "      <td>0.0</td>\n",
              "      <td>NaN</td>\n",
              "      <td>NaN</td>\n",
              "      <td>72145.0</td>\n",
              "      <td>Vega Baja</td>\n",
              "      <td>Vega Baja, Puerto Rico, US</td>\n",
              "    </tr>\n",
              "    <tr>\n",
              "      <th>4127533</th>\n",
              "      <td>Puerto Rico</td>\n",
              "      <td>US</td>\n",
              "      <td>2022-02-25</td>\n",
              "      <td>18.070399</td>\n",
              "      <td>-65.896289</td>\n",
              "      <td>POINT(-65.896289 18.070399)</td>\n",
              "      <td>3924.0</td>\n",
              "      <td>0.0</td>\n",
              "      <td>NaN</td>\n",
              "      <td>NaN</td>\n",
              "      <td>72151.0</td>\n",
              "      <td>Yabucoa</td>\n",
              "      <td>Yabucoa, Puerto Rico, US</td>\n",
              "    </tr>\n",
              "    <tr>\n",
              "      <th>4127534</th>\n",
              "      <td>Puerto Rico</td>\n",
              "      <td>US</td>\n",
              "      <td>2022-02-25</td>\n",
              "      <td>18.080374</td>\n",
              "      <td>-66.858814</td>\n",
              "      <td>POINT(-66.858814 18.080374)</td>\n",
              "      <td>3660.0</td>\n",
              "      <td>0.0</td>\n",
              "      <td>NaN</td>\n",
              "      <td>NaN</td>\n",
              "      <td>72153.0</td>\n",
              "      <td>Yauco</td>\n",
              "      <td>Yauco, Puerto Rico, US</td>\n",
              "    </tr>\n",
              "    <tr>\n",
              "      <th>4127535</th>\n",
              "      <td>Rhode Island</td>\n",
              "      <td>US</td>\n",
              "      <td>2022-02-25</td>\n",
              "      <td>41.671063</td>\n",
              "      <td>-71.576416</td>\n",
              "      <td>POINT(-71.57641596 41.67106337)</td>\n",
              "      <td>47000.0</td>\n",
              "      <td>488.0</td>\n",
              "      <td>NaN</td>\n",
              "      <td>NaN</td>\n",
              "      <td>44003.0</td>\n",
              "      <td>Kent</td>\n",
              "      <td>Kent, Rhode Island, US</td>\n",
              "    </tr>\n",
              "  </tbody>\n",
              "</table>\n",
              "</div>\n",
              "      <button class=\"colab-df-convert\" onclick=\"convertToInteractive('df-4f03184c-9ae6-4639-9e57-1b807d100e3a')\"\n",
              "              title=\"Convert this dataframe to an interactive table.\"\n",
              "              style=\"display:none;\">\n",
              "        \n",
              "  <svg xmlns=\"http://www.w3.org/2000/svg\" height=\"24px\"viewBox=\"0 0 24 24\"\n",
              "       width=\"24px\">\n",
              "    <path d=\"M0 0h24v24H0V0z\" fill=\"none\"/>\n",
              "    <path d=\"M18.56 5.44l.94 2.06.94-2.06 2.06-.94-2.06-.94-.94-2.06-.94 2.06-2.06.94zm-11 1L8.5 8.5l.94-2.06 2.06-.94-2.06-.94L8.5 2.5l-.94 2.06-2.06.94zm10 10l.94 2.06.94-2.06 2.06-.94-2.06-.94-.94-2.06-.94 2.06-2.06.94z\"/><path d=\"M17.41 7.96l-1.37-1.37c-.4-.4-.92-.59-1.43-.59-.52 0-1.04.2-1.43.59L10.3 9.45l-7.72 7.72c-.78.78-.78 2.05 0 2.83L4 21.41c.39.39.9.59 1.41.59.51 0 1.02-.2 1.41-.59l7.78-7.78 2.81-2.81c.8-.78.8-2.07 0-2.86zM5.41 20L4 18.59l7.72-7.72 1.47 1.35L5.41 20z\"/>\n",
              "  </svg>\n",
              "      </button>\n",
              "      \n",
              "  <style>\n",
              "    .colab-df-container {\n",
              "      display:flex;\n",
              "      flex-wrap:wrap;\n",
              "      gap: 12px;\n",
              "    }\n",
              "\n",
              "    .colab-df-convert {\n",
              "      background-color: #E8F0FE;\n",
              "      border: none;\n",
              "      border-radius: 50%;\n",
              "      cursor: pointer;\n",
              "      display: none;\n",
              "      fill: #1967D2;\n",
              "      height: 32px;\n",
              "      padding: 0 0 0 0;\n",
              "      width: 32px;\n",
              "    }\n",
              "\n",
              "    .colab-df-convert:hover {\n",
              "      background-color: #E2EBFA;\n",
              "      box-shadow: 0px 1px 2px rgba(60, 64, 67, 0.3), 0px 1px 3px 1px rgba(60, 64, 67, 0.15);\n",
              "      fill: #174EA6;\n",
              "    }\n",
              "\n",
              "    [theme=dark] .colab-df-convert {\n",
              "      background-color: #3B4455;\n",
              "      fill: #D2E3FC;\n",
              "    }\n",
              "\n",
              "    [theme=dark] .colab-df-convert:hover {\n",
              "      background-color: #434B5C;\n",
              "      box-shadow: 0px 1px 3px 1px rgba(0, 0, 0, 0.15);\n",
              "      filter: drop-shadow(0px 1px 2px rgba(0, 0, 0, 0.3));\n",
              "      fill: #FFFFFF;\n",
              "    }\n",
              "  </style>\n",
              "\n",
              "      <script>\n",
              "        const buttonEl =\n",
              "          document.querySelector('#df-4f03184c-9ae6-4639-9e57-1b807d100e3a button.colab-df-convert');\n",
              "        buttonEl.style.display =\n",
              "          google.colab.kernel.accessAllowed ? 'block' : 'none';\n",
              "\n",
              "        async function convertToInteractive(key) {\n",
              "          const element = document.querySelector('#df-4f03184c-9ae6-4639-9e57-1b807d100e3a');\n",
              "          const dataTable =\n",
              "            await google.colab.kernel.invokeFunction('convertToInteractive',\n",
              "                                                     [key], {});\n",
              "          if (!dataTable) return;\n",
              "\n",
              "          const docLinkHtml = 'Like what you see? Visit the ' +\n",
              "            '<a target=\"_blank\" href=https://colab.research.google.com/notebooks/data_table.ipynb>data table notebook</a>'\n",
              "            + ' to learn more about interactive tables.';\n",
              "          element.innerHTML = '';\n",
              "          dataTable['output_type'] = 'display_data';\n",
              "          await google.colab.output.renderOutput(dataTable, element);\n",
              "          const docLink = document.createElement('div');\n",
              "          docLink.innerHTML = docLinkHtml;\n",
              "          element.appendChild(docLink);\n",
              "        }\n",
              "      </script>\n",
              "    </div>\n",
              "  </div>\n",
              "  "
            ]
          },
          "metadata": {},
          "execution_count": 30
        }
      ]
    },
    {
      "cell_type": "markdown",
      "source": [
        "`df.tail(10)` digunakan untuk menampilkan 10 indeks terakhir dari data frame."
      ],
      "metadata": {
        "id": "nRfjntacD2hV"
      }
    },
    {
      "cell_type": "code",
      "source": [
        "df.info()"
      ],
      "metadata": {
        "colab": {
          "base_uri": "https://localhost:8080/"
        },
        "id": "DgO3MTkwCPWS",
        "outputId": "bcff2445-7a4f-455b-8ec6-025ff9b92141"
      },
      "execution_count": 31,
      "outputs": [
        {
          "output_type": "stream",
          "name": "stdout",
          "text": [
            "<class 'pandas.core.frame.DataFrame'>\n",
            "RangeIndex: 4127536 entries, 0 to 4127535\n",
            "Data columns (total 13 columns):\n",
            " #   Column          Dtype  \n",
            "---  ------          -----  \n",
            " 0   province_state  object \n",
            " 1   country_region  object \n",
            " 2   date            object \n",
            " 3   latitude        float64\n",
            " 4   longitude       float64\n",
            " 5   location_geom   object \n",
            " 6   confirmed       float64\n",
            " 7   deaths          float64\n",
            " 8   recovered       float64\n",
            " 9   active          float64\n",
            " 10  fips            float64\n",
            " 11  admin2          object \n",
            " 12  combined_key    object \n",
            "dtypes: float64(7), object(6)\n",
            "memory usage: 409.4+ MB\n"
          ]
        }
      ]
    },
    {
      "cell_type": "markdown",
      "source": [
        "`df.info` digunakan untuk menampilkan informasi nama keseluruhan kolom yang ada pada data frame bersama dengan tipe datanya."
      ],
      "metadata": {
        "id": "UHUHOF3oD8O6"
      }
    },
    {
      "cell_type": "code",
      "source": [
        "df.describe()"
      ],
      "metadata": {
        "colab": {
          "base_uri": "https://localhost:8080/",
          "height": 300
        },
        "id": "frMMld91GB-N",
        "outputId": "e076fda0-7bdb-4b4b-f06a-9af656bdb6f4"
      },
      "execution_count": 32,
      "outputs": [
        {
          "output_type": "execute_result",
          "data": {
            "text/plain": [
              "           latitude     longitude     confirmed        deaths     recovered  \\\n",
              "count  4.035367e+06  4.035367e+06  4.127517e+06  4.127094e+06  1.435591e+06   \n",
              "mean   3.591253e+01 -7.206856e+01  7.114377e+04  1.003833e+03  1.636175e+04   \n",
              "std    1.304303e+01  5.381792e+01  5.635311e+05  6.250453e+03  1.341763e+05   \n",
              "min   -7.194990e+01 -1.781165e+02 -3.028440e+05 -1.780000e+02 -8.544050e+05   \n",
              "25%    3.326679e+01 -9.657264e+01  7.590000e+02  1.000000e+01  0.000000e+00   \n",
              "50%    3.793358e+01 -8.686888e+01  3.573000e+03  5.600000e+01  0.000000e+00   \n",
              "75%    4.213891e+01 -7.765540e+01  1.544300e+04  2.160000e+02  0.000000e+00   \n",
              "max    7.200000e+01  1.780650e+02  3.849501e+07  6.246410e+05  6.399531e+06   \n",
              "\n",
              "             active          fips  \n",
              "count  1.427512e+06  3.388380e+06  \n",
              "mean   6.556527e+03  3.228396e+04  \n",
              "std    9.286123e+04  1.792872e+04  \n",
              "min   -6.298082e+06  6.000000e+01  \n",
              "25%    5.500000e+01  1.904100e+04  \n",
              "50%    4.710000e+02  3.005700e+04  \n",
              "75%    2.248000e+03  4.702900e+04  \n",
              "max    1.087776e+07  9.999900e+04  "
            ],
            "text/html": [
              "\n",
              "  <div id=\"df-54a64d20-178b-429d-9637-7348c9e7ceaf\">\n",
              "    <div class=\"colab-df-container\">\n",
              "      <div>\n",
              "<style scoped>\n",
              "    .dataframe tbody tr th:only-of-type {\n",
              "        vertical-align: middle;\n",
              "    }\n",
              "\n",
              "    .dataframe tbody tr th {\n",
              "        vertical-align: top;\n",
              "    }\n",
              "\n",
              "    .dataframe thead th {\n",
              "        text-align: right;\n",
              "    }\n",
              "</style>\n",
              "<table border=\"1\" class=\"dataframe\">\n",
              "  <thead>\n",
              "    <tr style=\"text-align: right;\">\n",
              "      <th></th>\n",
              "      <th>latitude</th>\n",
              "      <th>longitude</th>\n",
              "      <th>confirmed</th>\n",
              "      <th>deaths</th>\n",
              "      <th>recovered</th>\n",
              "      <th>active</th>\n",
              "      <th>fips</th>\n",
              "    </tr>\n",
              "  </thead>\n",
              "  <tbody>\n",
              "    <tr>\n",
              "      <th>count</th>\n",
              "      <td>4.035367e+06</td>\n",
              "      <td>4.035367e+06</td>\n",
              "      <td>4.127517e+06</td>\n",
              "      <td>4.127094e+06</td>\n",
              "      <td>1.435591e+06</td>\n",
              "      <td>1.427512e+06</td>\n",
              "      <td>3.388380e+06</td>\n",
              "    </tr>\n",
              "    <tr>\n",
              "      <th>mean</th>\n",
              "      <td>3.591253e+01</td>\n",
              "      <td>-7.206856e+01</td>\n",
              "      <td>7.114377e+04</td>\n",
              "      <td>1.003833e+03</td>\n",
              "      <td>1.636175e+04</td>\n",
              "      <td>6.556527e+03</td>\n",
              "      <td>3.228396e+04</td>\n",
              "    </tr>\n",
              "    <tr>\n",
              "      <th>std</th>\n",
              "      <td>1.304303e+01</td>\n",
              "      <td>5.381792e+01</td>\n",
              "      <td>5.635311e+05</td>\n",
              "      <td>6.250453e+03</td>\n",
              "      <td>1.341763e+05</td>\n",
              "      <td>9.286123e+04</td>\n",
              "      <td>1.792872e+04</td>\n",
              "    </tr>\n",
              "    <tr>\n",
              "      <th>min</th>\n",
              "      <td>-7.194990e+01</td>\n",
              "      <td>-1.781165e+02</td>\n",
              "      <td>-3.028440e+05</td>\n",
              "      <td>-1.780000e+02</td>\n",
              "      <td>-8.544050e+05</td>\n",
              "      <td>-6.298082e+06</td>\n",
              "      <td>6.000000e+01</td>\n",
              "    </tr>\n",
              "    <tr>\n",
              "      <th>25%</th>\n",
              "      <td>3.326679e+01</td>\n",
              "      <td>-9.657264e+01</td>\n",
              "      <td>7.590000e+02</td>\n",
              "      <td>1.000000e+01</td>\n",
              "      <td>0.000000e+00</td>\n",
              "      <td>5.500000e+01</td>\n",
              "      <td>1.904100e+04</td>\n",
              "    </tr>\n",
              "    <tr>\n",
              "      <th>50%</th>\n",
              "      <td>3.793358e+01</td>\n",
              "      <td>-8.686888e+01</td>\n",
              "      <td>3.573000e+03</td>\n",
              "      <td>5.600000e+01</td>\n",
              "      <td>0.000000e+00</td>\n",
              "      <td>4.710000e+02</td>\n",
              "      <td>3.005700e+04</td>\n",
              "    </tr>\n",
              "    <tr>\n",
              "      <th>75%</th>\n",
              "      <td>4.213891e+01</td>\n",
              "      <td>-7.765540e+01</td>\n",
              "      <td>1.544300e+04</td>\n",
              "      <td>2.160000e+02</td>\n",
              "      <td>0.000000e+00</td>\n",
              "      <td>2.248000e+03</td>\n",
              "      <td>4.702900e+04</td>\n",
              "    </tr>\n",
              "    <tr>\n",
              "      <th>max</th>\n",
              "      <td>7.200000e+01</td>\n",
              "      <td>1.780650e+02</td>\n",
              "      <td>3.849501e+07</td>\n",
              "      <td>6.246410e+05</td>\n",
              "      <td>6.399531e+06</td>\n",
              "      <td>1.087776e+07</td>\n",
              "      <td>9.999900e+04</td>\n",
              "    </tr>\n",
              "  </tbody>\n",
              "</table>\n",
              "</div>\n",
              "      <button class=\"colab-df-convert\" onclick=\"convertToInteractive('df-54a64d20-178b-429d-9637-7348c9e7ceaf')\"\n",
              "              title=\"Convert this dataframe to an interactive table.\"\n",
              "              style=\"display:none;\">\n",
              "        \n",
              "  <svg xmlns=\"http://www.w3.org/2000/svg\" height=\"24px\"viewBox=\"0 0 24 24\"\n",
              "       width=\"24px\">\n",
              "    <path d=\"M0 0h24v24H0V0z\" fill=\"none\"/>\n",
              "    <path d=\"M18.56 5.44l.94 2.06.94-2.06 2.06-.94-2.06-.94-.94-2.06-.94 2.06-2.06.94zm-11 1L8.5 8.5l.94-2.06 2.06-.94-2.06-.94L8.5 2.5l-.94 2.06-2.06.94zm10 10l.94 2.06.94-2.06 2.06-.94-2.06-.94-.94-2.06-.94 2.06-2.06.94z\"/><path d=\"M17.41 7.96l-1.37-1.37c-.4-.4-.92-.59-1.43-.59-.52 0-1.04.2-1.43.59L10.3 9.45l-7.72 7.72c-.78.78-.78 2.05 0 2.83L4 21.41c.39.39.9.59 1.41.59.51 0 1.02-.2 1.41-.59l7.78-7.78 2.81-2.81c.8-.78.8-2.07 0-2.86zM5.41 20L4 18.59l7.72-7.72 1.47 1.35L5.41 20z\"/>\n",
              "  </svg>\n",
              "      </button>\n",
              "      \n",
              "  <style>\n",
              "    .colab-df-container {\n",
              "      display:flex;\n",
              "      flex-wrap:wrap;\n",
              "      gap: 12px;\n",
              "    }\n",
              "\n",
              "    .colab-df-convert {\n",
              "      background-color: #E8F0FE;\n",
              "      border: none;\n",
              "      border-radius: 50%;\n",
              "      cursor: pointer;\n",
              "      display: none;\n",
              "      fill: #1967D2;\n",
              "      height: 32px;\n",
              "      padding: 0 0 0 0;\n",
              "      width: 32px;\n",
              "    }\n",
              "\n",
              "    .colab-df-convert:hover {\n",
              "      background-color: #E2EBFA;\n",
              "      box-shadow: 0px 1px 2px rgba(60, 64, 67, 0.3), 0px 1px 3px 1px rgba(60, 64, 67, 0.15);\n",
              "      fill: #174EA6;\n",
              "    }\n",
              "\n",
              "    [theme=dark] .colab-df-convert {\n",
              "      background-color: #3B4455;\n",
              "      fill: #D2E3FC;\n",
              "    }\n",
              "\n",
              "    [theme=dark] .colab-df-convert:hover {\n",
              "      background-color: #434B5C;\n",
              "      box-shadow: 0px 1px 3px 1px rgba(0, 0, 0, 0.15);\n",
              "      filter: drop-shadow(0px 1px 2px rgba(0, 0, 0, 0.3));\n",
              "      fill: #FFFFFF;\n",
              "    }\n",
              "  </style>\n",
              "\n",
              "      <script>\n",
              "        const buttonEl =\n",
              "          document.querySelector('#df-54a64d20-178b-429d-9637-7348c9e7ceaf button.colab-df-convert');\n",
              "        buttonEl.style.display =\n",
              "          google.colab.kernel.accessAllowed ? 'block' : 'none';\n",
              "\n",
              "        async function convertToInteractive(key) {\n",
              "          const element = document.querySelector('#df-54a64d20-178b-429d-9637-7348c9e7ceaf');\n",
              "          const dataTable =\n",
              "            await google.colab.kernel.invokeFunction('convertToInteractive',\n",
              "                                                     [key], {});\n",
              "          if (!dataTable) return;\n",
              "\n",
              "          const docLinkHtml = 'Like what you see? Visit the ' +\n",
              "            '<a target=\"_blank\" href=https://colab.research.google.com/notebooks/data_table.ipynb>data table notebook</a>'\n",
              "            + ' to learn more about interactive tables.';\n",
              "          element.innerHTML = '';\n",
              "          dataTable['output_type'] = 'display_data';\n",
              "          await google.colab.output.renderOutput(dataTable, element);\n",
              "          const docLink = document.createElement('div');\n",
              "          docLink.innerHTML = docLinkHtml;\n",
              "          element.appendChild(docLink);\n",
              "        }\n",
              "      </script>\n",
              "    </div>\n",
              "  </div>\n",
              "  "
            ]
          },
          "metadata": {},
          "execution_count": 32
        }
      ]
    },
    {
      "cell_type": "markdown",
      "source": [
        "`df.describe()` : menampilkan overview *value* dari dataframe. Yang ditampilkan hanya kolom yang memiliki tipe data float."
      ],
      "metadata": {
        "id": "GvjJnLUgG4Av"
      }
    },
    {
      "cell_type": "code",
      "source": [
        "a = len(pd.unique(df['province_state']))\n",
        "print('Total Propinsi : ', a)"
      ],
      "metadata": {
        "colab": {
          "base_uri": "https://localhost:8080/"
        },
        "id": "Bi_fiBjbFF0g",
        "outputId": "95a64ac2-70ea-4b0f-ff1d-c7d7d6559a1f"
      },
      "execution_count": 33,
      "outputs": [
        {
          "output_type": "stream",
          "name": "stdout",
          "text": [
            "Total Propinsi :  760\n"
          ]
        }
      ]
    },
    {
      "cell_type": "markdown",
      "source": [
        "`len(pd.unique(df['province_state']))` : menampilkan total data nama propinsi yang ada pada kolom province_state tanpa terduplikasi. Terdapat 760 nama propinsi yang ada dalam kolom province_state."
      ],
      "metadata": {
        "id": "GXf0JEMCFPA8"
      }
    },
    {
      "cell_type": "code",
      "source": [
        "a = len(pd.unique(df['country_region']))\n",
        "print('Total Negara : ', a)"
      ],
      "metadata": {
        "colab": {
          "base_uri": "https://localhost:8080/"
        },
        "id": "hlUzEihHEm6e",
        "outputId": "1f803187-4547-4c97-a555-6cdde5af836a"
      },
      "execution_count": 34,
      "outputs": [
        {
          "output_type": "stream",
          "name": "stdout",
          "text": [
            "Total Negara :  253\n"
          ]
        }
      ]
    },
    {
      "cell_type": "markdown",
      "source": [
        "`len(pd.unique(df['country_region']))` : menampilkan total data nama negara yang ada pada kolom country_region tanpa terduplikasi. Terdapat 253 nama negara yang ada dalam kolom country_region termasuk 1 NaN"
      ],
      "metadata": {
        "id": "mOLl1HehE08F"
      }
    },
    {
      "cell_type": "code",
      "source": [
        "pd.isnull(df['province_state']).value_counts()"
      ],
      "metadata": {
        "colab": {
          "base_uri": "https://localhost:8080/"
        },
        "id": "NBt-5vDcHXqc",
        "outputId": "144ca913-395c-4e77-ad08-741767d6060a"
      },
      "execution_count": 35,
      "outputs": [
        {
          "output_type": "execute_result",
          "data": {
            "text/plain": [
              "False    3941731\n",
              "True      185805\n",
              "Name: province_state, dtype: int64"
            ]
          },
          "metadata": {},
          "execution_count": 35
        }
      ]
    },
    {
      "cell_type": "markdown",
      "source": [
        "syntax `pd.isnull(df['nama_kolom']).value_counts()` digunakan untuk mendeteksi *missing value* dan menghitung total jumlah *missing value* dari kolom yang ditentukan. Nilai True menunjukkan bahwasanya terdapat *missing value* dan nilai False menunjukkan bahwa tidak terdapat *missing value*. Pada contoh diatas merupakan pengecekan *missing value* pada kolom province_state. Terdapat 185.805 *missing value* pada kolom province_state."
      ],
      "metadata": {
        "id": "UQIrRiJtIuO7"
      }
    },
    {
      "cell_type": "code",
      "source": [
        "a = df['date'].min()\n",
        "b = df['date'].max()\n",
        "\n",
        "print('Tanggal Awal  : ', a)\n",
        "print('Tanggal Akhir : ', b)"
      ],
      "metadata": {
        "colab": {
          "base_uri": "https://localhost:8080/"
        },
        "id": "Fmt4TuxnOHT8",
        "outputId": "779b059e-54a4-4bda-c702-af927a02b2a1"
      },
      "execution_count": 36,
      "outputs": [
        {
          "output_type": "stream",
          "name": "stdout",
          "text": [
            "Tanggal Awal  :  2020-01-22\n",
            "Tanggal Akhir :  2023-02-03\n"
          ]
        }
      ]
    },
    {
      "cell_type": "markdown",
      "source": [
        "Syntax `df['date'].min()` digunakan untuk menampilkan tanggal awal dari kolom 'date'. Sedangkan `df['date'].max()` digunakan untuk menampilkan tanggal terakhir dari kolom 'date'"
      ],
      "metadata": {
        "id": "2qxduTXQOxeT"
      }
    },
    {
      "cell_type": "code",
      "source": [
        "pd.isna(df['date']).value_counts()"
      ],
      "metadata": {
        "colab": {
          "base_uri": "https://localhost:8080/"
        },
        "id": "PxYMwB1CSO9D",
        "outputId": "bb01b47e-3929-401a-9578-cb0f45afeb52"
      },
      "execution_count": 37,
      "outputs": [
        {
          "output_type": "execute_result",
          "data": {
            "text/plain": [
              "False    4127536\n",
              "Name: date, dtype: int64"
            ]
          },
          "metadata": {},
          "execution_count": 37
        }
      ]
    },
    {
      "cell_type": "markdown",
      "source": [
        "Syntax `pd.isnull(df['date']).value_counts()` digunakan untuk menampilkan total *missing value* pada kolom 'date' yang ternyata tidak ada *missing value* pada kolom 'date' dibuktikan dengan tidak adanya nilai True."
      ],
      "metadata": {
        "id": "IW9XDPRqSbh1"
      }
    },
    {
      "cell_type": "code",
      "source": [
        "a = len(pd.unique(df['date']))\n",
        "print('Total Hari : ', a)"
      ],
      "metadata": {
        "colab": {
          "base_uri": "https://localhost:8080/"
        },
        "id": "ogZDZ3i8P7m4",
        "outputId": "d5818dcc-be5d-479c-b76e-3fe2125e5e7d"
      },
      "execution_count": 38,
      "outputs": [
        {
          "output_type": "stream",
          "name": "stdout",
          "text": [
            "Total Hari :  1109\n"
          ]
        }
      ]
    },
    {
      "cell_type": "markdown",
      "source": [
        "Syntax `a = len(pd.unique(df['date']))` digunakan untuk menghitung jumlah total hari. Toral hari yang dimaksud adalah range antara tanggal awal sampai tanggal akhir. Alasan menggunakan `a = len(pd.unique(df['date']))` adalah karena tanggal pada kolom date tidak terdapat *missing value* dibuktikan dengan pengecekan menggunakan `pd.isnull(df['date']).value_counts()` pada baris kode sebelumnya sehingga dapat dihitung data unik yang menghasikan 1109 data yang merupakan representasi total hari dari awal sampai akhir data."
      ],
      "metadata": {
        "id": "V9dvjw04Rvyr"
      }
    },
    {
      "cell_type": "markdown",
      "source": [
        "## Data Cleaning"
      ],
      "metadata": {
        "id": "VqNs6zq0c8SO"
      }
    },
    {
      "cell_type": "markdown",
      "source": [
        "### Merubah Nama Kolom"
      ],
      "metadata": {
        "id": "4XHEgM9-v6cz"
      }
    },
    {
      "cell_type": "markdown",
      "source": [
        "Merubah nama kolom agar dalam proses pengolahan data menjadi lebih jelas dan lebih mengerti kolom yang dimaksud. Kolom yang akan diubah namnaya adalah kolom `admin2` karena data di dalam kolom `admin2` merupakan nama kota. Kolom `admin2` akan diubah namanya menjadi kolom `city_name`. Selain nama kolom admin2 yang akan diubah, kolom `location_geom` juga akan diubah karena data yang ditampilkan di kolom tersebut adalah koordinat, maka nama kolom akan diubah menjadi `coordinates`."
      ],
      "metadata": {
        "id": "0nXg8pzewCRC"
      }
    },
    {
      "cell_type": "code",
      "source": [
        "df"
      ],
      "metadata": {
        "colab": {
          "base_uri": "https://localhost:8080/",
          "height": 641
        },
        "id": "CsgmiLUrwlOR",
        "outputId": "2c87a11d-007b-4073-a0f6-fb51201dd5c6"
      },
      "execution_count": 39,
      "outputs": [
        {
          "output_type": "execute_result",
          "data": {
            "text/plain": [
              "        province_state country_region        date   latitude  longitude  \\\n",
              "0            Minnesota             US  2022-07-07  47.871975 -96.095611   \n",
              "1            Minnesota             US  2022-07-07  44.728364 -94.945537   \n",
              "2            Minnesota             US  2022-07-07  47.604841 -92.468799   \n",
              "3            Minnesota             US  2022-07-07  44.022404 -93.226271   \n",
              "4            Minnesota             US  2022-07-07  45.586130 -96.001637   \n",
              "...                ...            ...         ...        ...        ...   \n",
              "4127531    Puerto Rico             US  2022-02-25  18.409346 -66.337250   \n",
              "4127532    Puerto Rico             US  2022-02-25  18.428262 -66.397924   \n",
              "4127533    Puerto Rico             US  2022-02-25  18.070399 -65.896289   \n",
              "4127534    Puerto Rico             US  2022-02-25  18.080374 -66.858814   \n",
              "4127535   Rhode Island             US  2022-02-25  41.671063 -71.576416   \n",
              "\n",
              "                           location_geom  confirmed  deaths  recovered  \\\n",
              "0        POINT(-96.09561104 47.87197525)      964.0    13.0        NaN   \n",
              "1        POINT(-94.94553734 44.72836381)     3936.0    58.0        NaN   \n",
              "2         POINT(-92.46879855 47.6048407)    52168.0   548.0        NaN   \n",
              "3        POINT(-93.22627088 44.02240351)    10974.0    63.0        NaN   \n",
              "4        POINT(-96.00163705 45.58613007)     2844.0    14.0        NaN   \n",
              "...                                  ...        ...     ...        ...   \n",
              "4127531       POINT(-66.33725 18.409346)     5513.0     0.0        NaN   \n",
              "4127532      POINT(-66.397924 18.428262)     9581.0     0.0        NaN   \n",
              "4127533      POINT(-65.896289 18.070399)     3924.0     0.0        NaN   \n",
              "4127534      POINT(-66.858814 18.080374)     3660.0     0.0        NaN   \n",
              "4127535  POINT(-71.57641596 41.67106337)    47000.0   488.0        NaN   \n",
              "\n",
              "         active     fips     admin2                combined_key  \n",
              "0           NaN  27125.0   Red Lake     Red Lake, Minnesota, US  \n",
              "1           NaN  27129.0   Renville     Renville, Minnesota, US  \n",
              "2           NaN  27137.0  St. Louis    St. Louis, Minnesota, US  \n",
              "3           NaN  27147.0     Steele       Steele, Minnesota, US  \n",
              "4           NaN  27149.0    Stevens      Stevens, Minnesota, US  \n",
              "...         ...      ...        ...                         ...  \n",
              "4127531     NaN  72143.0  Vega Alta  Vega Alta, Puerto Rico, US  \n",
              "4127532     NaN  72145.0  Vega Baja  Vega Baja, Puerto Rico, US  \n",
              "4127533     NaN  72151.0    Yabucoa    Yabucoa, Puerto Rico, US  \n",
              "4127534     NaN  72153.0      Yauco      Yauco, Puerto Rico, US  \n",
              "4127535     NaN  44003.0       Kent      Kent, Rhode Island, US  \n",
              "\n",
              "[4127536 rows x 13 columns]"
            ],
            "text/html": [
              "\n",
              "  <div id=\"df-de799bdd-d4f8-49e8-8f6f-4a0200d60671\">\n",
              "    <div class=\"colab-df-container\">\n",
              "      <div>\n",
              "<style scoped>\n",
              "    .dataframe tbody tr th:only-of-type {\n",
              "        vertical-align: middle;\n",
              "    }\n",
              "\n",
              "    .dataframe tbody tr th {\n",
              "        vertical-align: top;\n",
              "    }\n",
              "\n",
              "    .dataframe thead th {\n",
              "        text-align: right;\n",
              "    }\n",
              "</style>\n",
              "<table border=\"1\" class=\"dataframe\">\n",
              "  <thead>\n",
              "    <tr style=\"text-align: right;\">\n",
              "      <th></th>\n",
              "      <th>province_state</th>\n",
              "      <th>country_region</th>\n",
              "      <th>date</th>\n",
              "      <th>latitude</th>\n",
              "      <th>longitude</th>\n",
              "      <th>location_geom</th>\n",
              "      <th>confirmed</th>\n",
              "      <th>deaths</th>\n",
              "      <th>recovered</th>\n",
              "      <th>active</th>\n",
              "      <th>fips</th>\n",
              "      <th>admin2</th>\n",
              "      <th>combined_key</th>\n",
              "    </tr>\n",
              "  </thead>\n",
              "  <tbody>\n",
              "    <tr>\n",
              "      <th>0</th>\n",
              "      <td>Minnesota</td>\n",
              "      <td>US</td>\n",
              "      <td>2022-07-07</td>\n",
              "      <td>47.871975</td>\n",
              "      <td>-96.095611</td>\n",
              "      <td>POINT(-96.09561104 47.87197525)</td>\n",
              "      <td>964.0</td>\n",
              "      <td>13.0</td>\n",
              "      <td>NaN</td>\n",
              "      <td>NaN</td>\n",
              "      <td>27125.0</td>\n",
              "      <td>Red Lake</td>\n",
              "      <td>Red Lake, Minnesota, US</td>\n",
              "    </tr>\n",
              "    <tr>\n",
              "      <th>1</th>\n",
              "      <td>Minnesota</td>\n",
              "      <td>US</td>\n",
              "      <td>2022-07-07</td>\n",
              "      <td>44.728364</td>\n",
              "      <td>-94.945537</td>\n",
              "      <td>POINT(-94.94553734 44.72836381)</td>\n",
              "      <td>3936.0</td>\n",
              "      <td>58.0</td>\n",
              "      <td>NaN</td>\n",
              "      <td>NaN</td>\n",
              "      <td>27129.0</td>\n",
              "      <td>Renville</td>\n",
              "      <td>Renville, Minnesota, US</td>\n",
              "    </tr>\n",
              "    <tr>\n",
              "      <th>2</th>\n",
              "      <td>Minnesota</td>\n",
              "      <td>US</td>\n",
              "      <td>2022-07-07</td>\n",
              "      <td>47.604841</td>\n",
              "      <td>-92.468799</td>\n",
              "      <td>POINT(-92.46879855 47.6048407)</td>\n",
              "      <td>52168.0</td>\n",
              "      <td>548.0</td>\n",
              "      <td>NaN</td>\n",
              "      <td>NaN</td>\n",
              "      <td>27137.0</td>\n",
              "      <td>St. Louis</td>\n",
              "      <td>St. Louis, Minnesota, US</td>\n",
              "    </tr>\n",
              "    <tr>\n",
              "      <th>3</th>\n",
              "      <td>Minnesota</td>\n",
              "      <td>US</td>\n",
              "      <td>2022-07-07</td>\n",
              "      <td>44.022404</td>\n",
              "      <td>-93.226271</td>\n",
              "      <td>POINT(-93.22627088 44.02240351)</td>\n",
              "      <td>10974.0</td>\n",
              "      <td>63.0</td>\n",
              "      <td>NaN</td>\n",
              "      <td>NaN</td>\n",
              "      <td>27147.0</td>\n",
              "      <td>Steele</td>\n",
              "      <td>Steele, Minnesota, US</td>\n",
              "    </tr>\n",
              "    <tr>\n",
              "      <th>4</th>\n",
              "      <td>Minnesota</td>\n",
              "      <td>US</td>\n",
              "      <td>2022-07-07</td>\n",
              "      <td>45.586130</td>\n",
              "      <td>-96.001637</td>\n",
              "      <td>POINT(-96.00163705 45.58613007)</td>\n",
              "      <td>2844.0</td>\n",
              "      <td>14.0</td>\n",
              "      <td>NaN</td>\n",
              "      <td>NaN</td>\n",
              "      <td>27149.0</td>\n",
              "      <td>Stevens</td>\n",
              "      <td>Stevens, Minnesota, US</td>\n",
              "    </tr>\n",
              "    <tr>\n",
              "      <th>...</th>\n",
              "      <td>...</td>\n",
              "      <td>...</td>\n",
              "      <td>...</td>\n",
              "      <td>...</td>\n",
              "      <td>...</td>\n",
              "      <td>...</td>\n",
              "      <td>...</td>\n",
              "      <td>...</td>\n",
              "      <td>...</td>\n",
              "      <td>...</td>\n",
              "      <td>...</td>\n",
              "      <td>...</td>\n",
              "      <td>...</td>\n",
              "    </tr>\n",
              "    <tr>\n",
              "      <th>4127531</th>\n",
              "      <td>Puerto Rico</td>\n",
              "      <td>US</td>\n",
              "      <td>2022-02-25</td>\n",
              "      <td>18.409346</td>\n",
              "      <td>-66.337250</td>\n",
              "      <td>POINT(-66.33725 18.409346)</td>\n",
              "      <td>5513.0</td>\n",
              "      <td>0.0</td>\n",
              "      <td>NaN</td>\n",
              "      <td>NaN</td>\n",
              "      <td>72143.0</td>\n",
              "      <td>Vega Alta</td>\n",
              "      <td>Vega Alta, Puerto Rico, US</td>\n",
              "    </tr>\n",
              "    <tr>\n",
              "      <th>4127532</th>\n",
              "      <td>Puerto Rico</td>\n",
              "      <td>US</td>\n",
              "      <td>2022-02-25</td>\n",
              "      <td>18.428262</td>\n",
              "      <td>-66.397924</td>\n",
              "      <td>POINT(-66.397924 18.428262)</td>\n",
              "      <td>9581.0</td>\n",
              "      <td>0.0</td>\n",
              "      <td>NaN</td>\n",
              "      <td>NaN</td>\n",
              "      <td>72145.0</td>\n",
              "      <td>Vega Baja</td>\n",
              "      <td>Vega Baja, Puerto Rico, US</td>\n",
              "    </tr>\n",
              "    <tr>\n",
              "      <th>4127533</th>\n",
              "      <td>Puerto Rico</td>\n",
              "      <td>US</td>\n",
              "      <td>2022-02-25</td>\n",
              "      <td>18.070399</td>\n",
              "      <td>-65.896289</td>\n",
              "      <td>POINT(-65.896289 18.070399)</td>\n",
              "      <td>3924.0</td>\n",
              "      <td>0.0</td>\n",
              "      <td>NaN</td>\n",
              "      <td>NaN</td>\n",
              "      <td>72151.0</td>\n",
              "      <td>Yabucoa</td>\n",
              "      <td>Yabucoa, Puerto Rico, US</td>\n",
              "    </tr>\n",
              "    <tr>\n",
              "      <th>4127534</th>\n",
              "      <td>Puerto Rico</td>\n",
              "      <td>US</td>\n",
              "      <td>2022-02-25</td>\n",
              "      <td>18.080374</td>\n",
              "      <td>-66.858814</td>\n",
              "      <td>POINT(-66.858814 18.080374)</td>\n",
              "      <td>3660.0</td>\n",
              "      <td>0.0</td>\n",
              "      <td>NaN</td>\n",
              "      <td>NaN</td>\n",
              "      <td>72153.0</td>\n",
              "      <td>Yauco</td>\n",
              "      <td>Yauco, Puerto Rico, US</td>\n",
              "    </tr>\n",
              "    <tr>\n",
              "      <th>4127535</th>\n",
              "      <td>Rhode Island</td>\n",
              "      <td>US</td>\n",
              "      <td>2022-02-25</td>\n",
              "      <td>41.671063</td>\n",
              "      <td>-71.576416</td>\n",
              "      <td>POINT(-71.57641596 41.67106337)</td>\n",
              "      <td>47000.0</td>\n",
              "      <td>488.0</td>\n",
              "      <td>NaN</td>\n",
              "      <td>NaN</td>\n",
              "      <td>44003.0</td>\n",
              "      <td>Kent</td>\n",
              "      <td>Kent, Rhode Island, US</td>\n",
              "    </tr>\n",
              "  </tbody>\n",
              "</table>\n",
              "<p>4127536 rows × 13 columns</p>\n",
              "</div>\n",
              "      <button class=\"colab-df-convert\" onclick=\"convertToInteractive('df-de799bdd-d4f8-49e8-8f6f-4a0200d60671')\"\n",
              "              title=\"Convert this dataframe to an interactive table.\"\n",
              "              style=\"display:none;\">\n",
              "        \n",
              "  <svg xmlns=\"http://www.w3.org/2000/svg\" height=\"24px\"viewBox=\"0 0 24 24\"\n",
              "       width=\"24px\">\n",
              "    <path d=\"M0 0h24v24H0V0z\" fill=\"none\"/>\n",
              "    <path d=\"M18.56 5.44l.94 2.06.94-2.06 2.06-.94-2.06-.94-.94-2.06-.94 2.06-2.06.94zm-11 1L8.5 8.5l.94-2.06 2.06-.94-2.06-.94L8.5 2.5l-.94 2.06-2.06.94zm10 10l.94 2.06.94-2.06 2.06-.94-2.06-.94-.94-2.06-.94 2.06-2.06.94z\"/><path d=\"M17.41 7.96l-1.37-1.37c-.4-.4-.92-.59-1.43-.59-.52 0-1.04.2-1.43.59L10.3 9.45l-7.72 7.72c-.78.78-.78 2.05 0 2.83L4 21.41c.39.39.9.59 1.41.59.51 0 1.02-.2 1.41-.59l7.78-7.78 2.81-2.81c.8-.78.8-2.07 0-2.86zM5.41 20L4 18.59l7.72-7.72 1.47 1.35L5.41 20z\"/>\n",
              "  </svg>\n",
              "      </button>\n",
              "      \n",
              "  <style>\n",
              "    .colab-df-container {\n",
              "      display:flex;\n",
              "      flex-wrap:wrap;\n",
              "      gap: 12px;\n",
              "    }\n",
              "\n",
              "    .colab-df-convert {\n",
              "      background-color: #E8F0FE;\n",
              "      border: none;\n",
              "      border-radius: 50%;\n",
              "      cursor: pointer;\n",
              "      display: none;\n",
              "      fill: #1967D2;\n",
              "      height: 32px;\n",
              "      padding: 0 0 0 0;\n",
              "      width: 32px;\n",
              "    }\n",
              "\n",
              "    .colab-df-convert:hover {\n",
              "      background-color: #E2EBFA;\n",
              "      box-shadow: 0px 1px 2px rgba(60, 64, 67, 0.3), 0px 1px 3px 1px rgba(60, 64, 67, 0.15);\n",
              "      fill: #174EA6;\n",
              "    }\n",
              "\n",
              "    [theme=dark] .colab-df-convert {\n",
              "      background-color: #3B4455;\n",
              "      fill: #D2E3FC;\n",
              "    }\n",
              "\n",
              "    [theme=dark] .colab-df-convert:hover {\n",
              "      background-color: #434B5C;\n",
              "      box-shadow: 0px 1px 3px 1px rgba(0, 0, 0, 0.15);\n",
              "      filter: drop-shadow(0px 1px 2px rgba(0, 0, 0, 0.3));\n",
              "      fill: #FFFFFF;\n",
              "    }\n",
              "  </style>\n",
              "\n",
              "      <script>\n",
              "        const buttonEl =\n",
              "          document.querySelector('#df-de799bdd-d4f8-49e8-8f6f-4a0200d60671 button.colab-df-convert');\n",
              "        buttonEl.style.display =\n",
              "          google.colab.kernel.accessAllowed ? 'block' : 'none';\n",
              "\n",
              "        async function convertToInteractive(key) {\n",
              "          const element = document.querySelector('#df-de799bdd-d4f8-49e8-8f6f-4a0200d60671');\n",
              "          const dataTable =\n",
              "            await google.colab.kernel.invokeFunction('convertToInteractive',\n",
              "                                                     [key], {});\n",
              "          if (!dataTable) return;\n",
              "\n",
              "          const docLinkHtml = 'Like what you see? Visit the ' +\n",
              "            '<a target=\"_blank\" href=https://colab.research.google.com/notebooks/data_table.ipynb>data table notebook</a>'\n",
              "            + ' to learn more about interactive tables.';\n",
              "          element.innerHTML = '';\n",
              "          dataTable['output_type'] = 'display_data';\n",
              "          await google.colab.output.renderOutput(dataTable, element);\n",
              "          const docLink = document.createElement('div');\n",
              "          docLink.innerHTML = docLinkHtml;\n",
              "          element.appendChild(docLink);\n",
              "        }\n",
              "      </script>\n",
              "    </div>\n",
              "  </div>\n",
              "  "
            ]
          },
          "metadata": {},
          "execution_count": 39
        }
      ]
    },
    {
      "cell_type": "markdown",
      "source": [
        "`df.head()` digunakan untuk menampilkan tabel sebelum kolom `admin2` diubah namanya menjadi `city_name` dan kolom `location_geom` menjadi `coordinates`"
      ],
      "metadata": {
        "id": "bQcyPNolxWRg"
      }
    },
    {
      "cell_type": "code",
      "source": [
        "df.rename({'combined_key':'Location', 'admin2':'city_name', 'location_geom':'coordinates'}, axis=1, inplace=True)"
      ],
      "metadata": {
        "id": "STs4wCyGwAuW"
      },
      "execution_count": 40,
      "outputs": []
    },
    {
      "cell_type": "markdown",
      "source": [
        "`df.rename({'admin2':'city_name', 'location_geom':'coordinates'}, axis=1, inplace=True)` digunakan untuk merubah nama kolom `admin2` menjadi `city_name` dan `location_geom` menjadi `coordinates` dan `combined_key` menjadi `Location`"
      ],
      "metadata": {
        "id": "UaM3VVGNzLCC"
      }
    },
    {
      "cell_type": "code",
      "source": [
        "df.head()"
      ],
      "metadata": {
        "colab": {
          "base_uri": "https://localhost:8080/",
          "height": 206
        },
        "id": "he13Pg3Zzpsa",
        "outputId": "85c46431-75aa-4808-ce31-da996b997898"
      },
      "execution_count": 41,
      "outputs": [
        {
          "output_type": "execute_result",
          "data": {
            "text/plain": [
              "  province_state country_region        date   latitude  longitude  \\\n",
              "0      Minnesota             US  2022-07-07  47.871975 -96.095611   \n",
              "1      Minnesota             US  2022-07-07  44.728364 -94.945537   \n",
              "2      Minnesota             US  2022-07-07  47.604841 -92.468799   \n",
              "3      Minnesota             US  2022-07-07  44.022404 -93.226271   \n",
              "4      Minnesota             US  2022-07-07  45.586130 -96.001637   \n",
              "\n",
              "                       coordinates  confirmed  deaths  recovered  active  \\\n",
              "0  POINT(-96.09561104 47.87197525)      964.0    13.0        NaN     NaN   \n",
              "1  POINT(-94.94553734 44.72836381)     3936.0    58.0        NaN     NaN   \n",
              "2   POINT(-92.46879855 47.6048407)    52168.0   548.0        NaN     NaN   \n",
              "3  POINT(-93.22627088 44.02240351)    10974.0    63.0        NaN     NaN   \n",
              "4  POINT(-96.00163705 45.58613007)     2844.0    14.0        NaN     NaN   \n",
              "\n",
              "      fips  city_name                  Location  \n",
              "0  27125.0   Red Lake   Red Lake, Minnesota, US  \n",
              "1  27129.0   Renville   Renville, Minnesota, US  \n",
              "2  27137.0  St. Louis  St. Louis, Minnesota, US  \n",
              "3  27147.0     Steele     Steele, Minnesota, US  \n",
              "4  27149.0    Stevens    Stevens, Minnesota, US  "
            ],
            "text/html": [
              "\n",
              "  <div id=\"df-c7405f12-7fcd-4d38-8a22-397ab7bc82ba\">\n",
              "    <div class=\"colab-df-container\">\n",
              "      <div>\n",
              "<style scoped>\n",
              "    .dataframe tbody tr th:only-of-type {\n",
              "        vertical-align: middle;\n",
              "    }\n",
              "\n",
              "    .dataframe tbody tr th {\n",
              "        vertical-align: top;\n",
              "    }\n",
              "\n",
              "    .dataframe thead th {\n",
              "        text-align: right;\n",
              "    }\n",
              "</style>\n",
              "<table border=\"1\" class=\"dataframe\">\n",
              "  <thead>\n",
              "    <tr style=\"text-align: right;\">\n",
              "      <th></th>\n",
              "      <th>province_state</th>\n",
              "      <th>country_region</th>\n",
              "      <th>date</th>\n",
              "      <th>latitude</th>\n",
              "      <th>longitude</th>\n",
              "      <th>coordinates</th>\n",
              "      <th>confirmed</th>\n",
              "      <th>deaths</th>\n",
              "      <th>recovered</th>\n",
              "      <th>active</th>\n",
              "      <th>fips</th>\n",
              "      <th>city_name</th>\n",
              "      <th>Location</th>\n",
              "    </tr>\n",
              "  </thead>\n",
              "  <tbody>\n",
              "    <tr>\n",
              "      <th>0</th>\n",
              "      <td>Minnesota</td>\n",
              "      <td>US</td>\n",
              "      <td>2022-07-07</td>\n",
              "      <td>47.871975</td>\n",
              "      <td>-96.095611</td>\n",
              "      <td>POINT(-96.09561104 47.87197525)</td>\n",
              "      <td>964.0</td>\n",
              "      <td>13.0</td>\n",
              "      <td>NaN</td>\n",
              "      <td>NaN</td>\n",
              "      <td>27125.0</td>\n",
              "      <td>Red Lake</td>\n",
              "      <td>Red Lake, Minnesota, US</td>\n",
              "    </tr>\n",
              "    <tr>\n",
              "      <th>1</th>\n",
              "      <td>Minnesota</td>\n",
              "      <td>US</td>\n",
              "      <td>2022-07-07</td>\n",
              "      <td>44.728364</td>\n",
              "      <td>-94.945537</td>\n",
              "      <td>POINT(-94.94553734 44.72836381)</td>\n",
              "      <td>3936.0</td>\n",
              "      <td>58.0</td>\n",
              "      <td>NaN</td>\n",
              "      <td>NaN</td>\n",
              "      <td>27129.0</td>\n",
              "      <td>Renville</td>\n",
              "      <td>Renville, Minnesota, US</td>\n",
              "    </tr>\n",
              "    <tr>\n",
              "      <th>2</th>\n",
              "      <td>Minnesota</td>\n",
              "      <td>US</td>\n",
              "      <td>2022-07-07</td>\n",
              "      <td>47.604841</td>\n",
              "      <td>-92.468799</td>\n",
              "      <td>POINT(-92.46879855 47.6048407)</td>\n",
              "      <td>52168.0</td>\n",
              "      <td>548.0</td>\n",
              "      <td>NaN</td>\n",
              "      <td>NaN</td>\n",
              "      <td>27137.0</td>\n",
              "      <td>St. Louis</td>\n",
              "      <td>St. Louis, Minnesota, US</td>\n",
              "    </tr>\n",
              "    <tr>\n",
              "      <th>3</th>\n",
              "      <td>Minnesota</td>\n",
              "      <td>US</td>\n",
              "      <td>2022-07-07</td>\n",
              "      <td>44.022404</td>\n",
              "      <td>-93.226271</td>\n",
              "      <td>POINT(-93.22627088 44.02240351)</td>\n",
              "      <td>10974.0</td>\n",
              "      <td>63.0</td>\n",
              "      <td>NaN</td>\n",
              "      <td>NaN</td>\n",
              "      <td>27147.0</td>\n",
              "      <td>Steele</td>\n",
              "      <td>Steele, Minnesota, US</td>\n",
              "    </tr>\n",
              "    <tr>\n",
              "      <th>4</th>\n",
              "      <td>Minnesota</td>\n",
              "      <td>US</td>\n",
              "      <td>2022-07-07</td>\n",
              "      <td>45.586130</td>\n",
              "      <td>-96.001637</td>\n",
              "      <td>POINT(-96.00163705 45.58613007)</td>\n",
              "      <td>2844.0</td>\n",
              "      <td>14.0</td>\n",
              "      <td>NaN</td>\n",
              "      <td>NaN</td>\n",
              "      <td>27149.0</td>\n",
              "      <td>Stevens</td>\n",
              "      <td>Stevens, Minnesota, US</td>\n",
              "    </tr>\n",
              "  </tbody>\n",
              "</table>\n",
              "</div>\n",
              "      <button class=\"colab-df-convert\" onclick=\"convertToInteractive('df-c7405f12-7fcd-4d38-8a22-397ab7bc82ba')\"\n",
              "              title=\"Convert this dataframe to an interactive table.\"\n",
              "              style=\"display:none;\">\n",
              "        \n",
              "  <svg xmlns=\"http://www.w3.org/2000/svg\" height=\"24px\"viewBox=\"0 0 24 24\"\n",
              "       width=\"24px\">\n",
              "    <path d=\"M0 0h24v24H0V0z\" fill=\"none\"/>\n",
              "    <path d=\"M18.56 5.44l.94 2.06.94-2.06 2.06-.94-2.06-.94-.94-2.06-.94 2.06-2.06.94zm-11 1L8.5 8.5l.94-2.06 2.06-.94-2.06-.94L8.5 2.5l-.94 2.06-2.06.94zm10 10l.94 2.06.94-2.06 2.06-.94-2.06-.94-.94-2.06-.94 2.06-2.06.94z\"/><path d=\"M17.41 7.96l-1.37-1.37c-.4-.4-.92-.59-1.43-.59-.52 0-1.04.2-1.43.59L10.3 9.45l-7.72 7.72c-.78.78-.78 2.05 0 2.83L4 21.41c.39.39.9.59 1.41.59.51 0 1.02-.2 1.41-.59l7.78-7.78 2.81-2.81c.8-.78.8-2.07 0-2.86zM5.41 20L4 18.59l7.72-7.72 1.47 1.35L5.41 20z\"/>\n",
              "  </svg>\n",
              "      </button>\n",
              "      \n",
              "  <style>\n",
              "    .colab-df-container {\n",
              "      display:flex;\n",
              "      flex-wrap:wrap;\n",
              "      gap: 12px;\n",
              "    }\n",
              "\n",
              "    .colab-df-convert {\n",
              "      background-color: #E8F0FE;\n",
              "      border: none;\n",
              "      border-radius: 50%;\n",
              "      cursor: pointer;\n",
              "      display: none;\n",
              "      fill: #1967D2;\n",
              "      height: 32px;\n",
              "      padding: 0 0 0 0;\n",
              "      width: 32px;\n",
              "    }\n",
              "\n",
              "    .colab-df-convert:hover {\n",
              "      background-color: #E2EBFA;\n",
              "      box-shadow: 0px 1px 2px rgba(60, 64, 67, 0.3), 0px 1px 3px 1px rgba(60, 64, 67, 0.15);\n",
              "      fill: #174EA6;\n",
              "    }\n",
              "\n",
              "    [theme=dark] .colab-df-convert {\n",
              "      background-color: #3B4455;\n",
              "      fill: #D2E3FC;\n",
              "    }\n",
              "\n",
              "    [theme=dark] .colab-df-convert:hover {\n",
              "      background-color: #434B5C;\n",
              "      box-shadow: 0px 1px 3px 1px rgba(0, 0, 0, 0.15);\n",
              "      filter: drop-shadow(0px 1px 2px rgba(0, 0, 0, 0.3));\n",
              "      fill: #FFFFFF;\n",
              "    }\n",
              "  </style>\n",
              "\n",
              "      <script>\n",
              "        const buttonEl =\n",
              "          document.querySelector('#df-c7405f12-7fcd-4d38-8a22-397ab7bc82ba button.colab-df-convert');\n",
              "        buttonEl.style.display =\n",
              "          google.colab.kernel.accessAllowed ? 'block' : 'none';\n",
              "\n",
              "        async function convertToInteractive(key) {\n",
              "          const element = document.querySelector('#df-c7405f12-7fcd-4d38-8a22-397ab7bc82ba');\n",
              "          const dataTable =\n",
              "            await google.colab.kernel.invokeFunction('convertToInteractive',\n",
              "                                                     [key], {});\n",
              "          if (!dataTable) return;\n",
              "\n",
              "          const docLinkHtml = 'Like what you see? Visit the ' +\n",
              "            '<a target=\"_blank\" href=https://colab.research.google.com/notebooks/data_table.ipynb>data table notebook</a>'\n",
              "            + ' to learn more about interactive tables.';\n",
              "          element.innerHTML = '';\n",
              "          dataTable['output_type'] = 'display_data';\n",
              "          await google.colab.output.renderOutput(dataTable, element);\n",
              "          const docLink = document.createElement('div');\n",
              "          docLink.innerHTML = docLinkHtml;\n",
              "          element.appendChild(docLink);\n",
              "        }\n",
              "      </script>\n",
              "    </div>\n",
              "  </div>\n",
              "  "
            ]
          },
          "metadata": {},
          "execution_count": 41
        }
      ]
    },
    {
      "cell_type": "markdown",
      "source": [
        "`df.head()` digunakan untuk menampilkan head tabel guna menunjukkan perubahan nama kolom `admin2` menjadi `city_name` dan kolom `location_geom` menjadi `coordinates`"
      ],
      "metadata": {
        "id": "TU-4muRgzuEc"
      }
    },
    {
      "cell_type": "markdown",
      "source": [
        "### Menghapus Kolom yang Tidak Diperlukan"
      ],
      "metadata": {
        "id": "GAaZVw-30NfG"
      }
    },
    {
      "cell_type": "markdown",
      "source": [
        " \n",
        "\n",
        "*   Kolom `latitude` dan `longitude` dihapus karena `coordinates` mewakili nilai yang ada pada `latitude` dan `longitude`.\n",
        "*   Kolom `fips` dihapus karena `fips` hanya digunakan di US. Negara selain US tidak memiliki `fips`.\n",
        "\n"
      ],
      "metadata": {
        "id": "Vv9S_wrh0WG-"
      }
    },
    {
      "cell_type": "code",
      "source": [
        "df.isna().sum()"
      ],
      "metadata": {
        "colab": {
          "base_uri": "https://localhost:8080/"
        },
        "id": "Ogoveaa_yW10",
        "outputId": "9facb58b-9360-4dc0-8215-573f09c39dad"
      },
      "execution_count": 42,
      "outputs": [
        {
          "output_type": "execute_result",
          "data": {
            "text/plain": [
              "province_state     185805\n",
              "country_region          1\n",
              "date                    0\n",
              "latitude            92169\n",
              "longitude           92169\n",
              "coordinates         92169\n",
              "confirmed              19\n",
              "deaths                442\n",
              "recovered         2691945\n",
              "active            2700024\n",
              "fips               739156\n",
              "city_name          734209\n",
              "Location             7618\n",
              "dtype: int64"
            ]
          },
          "metadata": {},
          "execution_count": 42
        }
      ]
    },
    {
      "cell_type": "code",
      "source": [
        "df.drop('latitude', axis=1, inplace=True) #sudah ada di coordinates"
      ],
      "metadata": {
        "id": "5N6CEGmC2Toe"
      },
      "execution_count": 43,
      "outputs": []
    },
    {
      "cell_type": "code",
      "source": [
        "df.drop('longitude', axis=1, inplace=True) #sudah ada di coordinates"
      ],
      "metadata": {
        "id": "1XY4kL9O4n7I"
      },
      "execution_count": 44,
      "outputs": []
    },
    {
      "cell_type": "code",
      "source": [
        "df.drop('fips', axis=1, inplace=True) #hanya ada di Us, selain US fips bernilai Null"
      ],
      "metadata": {
        "id": "VhXFXS52zmI6"
      },
      "execution_count": 45,
      "outputs": []
    },
    {
      "cell_type": "markdown",
      "source": [
        "`df.drop('nama_kolom', axis=1, inplace=True)` merupakan syntax untuk menghapus kolom."
      ],
      "metadata": {
        "id": "XjmY4LJu40-H"
      }
    },
    {
      "cell_type": "code",
      "source": [
        "df.info()"
      ],
      "metadata": {
        "colab": {
          "base_uri": "https://localhost:8080/"
        },
        "id": "foVx-fu34Zv1",
        "outputId": "f1d24aed-5e66-4d25-d0c5-4441077359ec"
      },
      "execution_count": 46,
      "outputs": [
        {
          "output_type": "stream",
          "name": "stdout",
          "text": [
            "<class 'pandas.core.frame.DataFrame'>\n",
            "RangeIndex: 4127536 entries, 0 to 4127535\n",
            "Data columns (total 10 columns):\n",
            " #   Column          Dtype  \n",
            "---  ------          -----  \n",
            " 0   province_state  object \n",
            " 1   country_region  object \n",
            " 2   date            object \n",
            " 3   coordinates     object \n",
            " 4   confirmed       float64\n",
            " 5   deaths          float64\n",
            " 6   recovered       float64\n",
            " 7   active          float64\n",
            " 8   city_name       object \n",
            " 9   Location        object \n",
            "dtypes: float64(4), object(6)\n",
            "memory usage: 314.9+ MB\n"
          ]
        }
      ]
    },
    {
      "cell_type": "markdown",
      "source": [
        "`df` digunakan untuk menapilkan dataframe. Pada tampilan diatas sudah terlihat kolom longitude dan latitude sudah terhapus. Akan dibuktikan juga dengan df.shape agar terlihat bahwa 2 kolom sudah terhapus."
      ],
      "metadata": {
        "id": "JgrWzMVv5AqR"
      }
    },
    {
      "cell_type": "code",
      "source": [
        "df.shape"
      ],
      "metadata": {
        "colab": {
          "base_uri": "https://localhost:8080/"
        },
        "id": "jSCNTnMJ2Wys",
        "outputId": "3c85ffc0-7260-4390-b047-ba44425c39d9"
      },
      "execution_count": 47,
      "outputs": [
        {
          "output_type": "execute_result",
          "data": {
            "text/plain": [
              "(4127536, 10)"
            ]
          },
          "metadata": {},
          "execution_count": 47
        }
      ]
    },
    {
      "cell_type": "code",
      "source": [
        "df.isna().sum()"
      ],
      "metadata": {
        "colab": {
          "base_uri": "https://localhost:8080/"
        },
        "id": "1FE9gB562g3e",
        "outputId": "e91bcad9-becd-4551-fd84-4c46b57d5ff3"
      },
      "execution_count": 48,
      "outputs": [
        {
          "output_type": "execute_result",
          "data": {
            "text/plain": [
              "province_state     185805\n",
              "country_region          1\n",
              "date                    0\n",
              "coordinates         92169\n",
              "confirmed              19\n",
              "deaths                442\n",
              "recovered         2691945\n",
              "active            2700024\n",
              "city_name          734209\n",
              "Location             7618\n",
              "dtype: int64"
            ]
          },
          "metadata": {},
          "execution_count": 48
        }
      ]
    },
    {
      "cell_type": "code",
      "source": [
        "df.dropna(subset=['country_region'], inplace = True) #hapus 1 NaN pada coutry_region"
      ],
      "metadata": {
        "id": "RPAaWq7M2zIf"
      },
      "execution_count": 49,
      "outputs": []
    },
    {
      "cell_type": "code",
      "source": [
        "df.isna().sum() #menampilkan 1 missing value pada country_region yang telah dihapus"
      ],
      "metadata": {
        "colab": {
          "base_uri": "https://localhost:8080/"
        },
        "id": "yNOhuZbM2-Ru",
        "outputId": "ac4471c3-8259-46f0-eeb3-32243aba98d1"
      },
      "execution_count": 50,
      "outputs": [
        {
          "output_type": "execute_result",
          "data": {
            "text/plain": [
              "province_state     185804\n",
              "country_region          0\n",
              "date                    0\n",
              "coordinates         92168\n",
              "confirmed              19\n",
              "deaths                442\n",
              "recovered         2691945\n",
              "active            2700024\n",
              "city_name          734208\n",
              "Location             7617\n",
              "dtype: int64"
            ]
          },
          "metadata": {},
          "execution_count": 50
        }
      ]
    },
    {
      "cell_type": "code",
      "source": [
        "df.dropna(subset=['coordinates'], inplace = True) #hapus nan di coordinates"
      ],
      "metadata": {
        "id": "Pa1qhvDY3KNe"
      },
      "execution_count": 51,
      "outputs": []
    },
    {
      "cell_type": "code",
      "source": [
        "df.dropna(subset=['active'], inplace = True) #hapus nan di active"
      ],
      "metadata": {
        "id": "ekO6ekRd4RJc"
      },
      "execution_count": 52,
      "outputs": []
    },
    {
      "cell_type": "code",
      "source": [
        "df.shape # Setelah melakukan dropna total row pada dataframe tinggal 1.398.950 dan 10 column setelah melakukan drop pada kolom longitude, latitude dan fips."
      ],
      "metadata": {
        "colab": {
          "base_uri": "https://localhost:8080/"
        },
        "id": "oriD76pM33KO",
        "outputId": "e63ccd33-74db-414d-d612-df07b7de0a3e"
      },
      "execution_count": 54,
      "outputs": [
        {
          "output_type": "execute_result",
          "data": {
            "text/plain": [
              "(1398950, 10)"
            ]
          },
          "metadata": {},
          "execution_count": 54
        }
      ]
    },
    {
      "cell_type": "markdown",
      "source": [
        "### Mengisi nilai null dan NaN pada `city_name` dan `province_state`"
      ],
      "metadata": {
        "id": "7gYQa0FNe49i"
      }
    },
    {
      "cell_type": "code",
      "source": [
        "df.isna().sum() # Menampilkan total NaN pada setiap kolom yang ada."
      ],
      "metadata": {
        "colab": {
          "base_uri": "https://localhost:8080/"
        },
        "id": "RLIgx9T24X0a",
        "outputId": "dd988650-82ef-4328-fe29-dbca61b0c275"
      },
      "execution_count": 55,
      "outputs": [
        {
          "output_type": "execute_result",
          "data": {
            "text/plain": [
              "province_state     84977\n",
              "country_region         0\n",
              "date                   0\n",
              "coordinates            0\n",
              "confirmed              0\n",
              "deaths                 0\n",
              "recovered              0\n",
              "active                 0\n",
              "city_name         313622\n",
              "Location               0\n",
              "dtype: int64"
            ]
          },
          "metadata": {},
          "execution_count": 55
        }
      ]
    },
    {
      "cell_type": "code",
      "source": [
        "df['province_state'].fillna('Province', inplace=True) # Manipulasi untuk mengisi string yang kosong pada kolom province_state dengan isi 'Province'"
      ],
      "metadata": {
        "id": "WwjR4twV5nbb"
      },
      "execution_count": 56,
      "outputs": []
    },
    {
      "cell_type": "code",
      "source": [
        "df['city_name'].fillna('City', inplace=True) # Manipulasi untuk mengisi string yang kosong pada kolom city_name dengan isi 'City'"
      ],
      "metadata": {
        "id": "yW9XOCa855o5"
      },
      "execution_count": 57,
      "outputs": []
    },
    {
      "cell_type": "code",
      "source": [
        "df.isna().sum() # Memanggil fungsi isna() untuk pengecekan nilai null/Nan pada setiap kolom yang ada dan menampilkan jumlah keseluruhan."
      ],
      "metadata": {
        "colab": {
          "base_uri": "https://localhost:8080/"
        },
        "id": "w19gBGq26A_C",
        "outputId": "0364dbf0-510d-45ec-a6bb-be65de801a64"
      },
      "execution_count": 58,
      "outputs": [
        {
          "output_type": "execute_result",
          "data": {
            "text/plain": [
              "province_state    0\n",
              "country_region    0\n",
              "date              0\n",
              "coordinates       0\n",
              "confirmed         0\n",
              "deaths            0\n",
              "recovered         0\n",
              "active            0\n",
              "city_name         0\n",
              "Location          0\n",
              "dtype: int64"
            ]
          },
          "metadata": {},
          "execution_count": 58
        }
      ]
    },
    {
      "cell_type": "markdown",
      "source": [
        "Dari hasil output diatas dapat  dilihat sudah tidak terdapat nilai null maupun NaN pada setiap kolom yang ada. Data sudah siap untuk dieksplorasi."
      ],
      "metadata": {
        "id": "5Q9Qr08yQWGN"
      }
    },
    {
      "cell_type": "code",
      "source": [
        "df.info()"
      ],
      "metadata": {
        "colab": {
          "base_uri": "https://localhost:8080/"
        },
        "id": "YjgDn2Fdg35o",
        "outputId": "236ccdae-109d-40a0-b810-86bd8adad0c9"
      },
      "execution_count": 59,
      "outputs": [
        {
          "output_type": "stream",
          "name": "stdout",
          "text": [
            "<class 'pandas.core.frame.DataFrame'>\n",
            "Int64Index: 1398950 entries, 648 to 4125224\n",
            "Data columns (total 10 columns):\n",
            " #   Column          Non-Null Count    Dtype  \n",
            "---  ------          --------------    -----  \n",
            " 0   province_state  1398950 non-null  object \n",
            " 1   country_region  1398950 non-null  object \n",
            " 2   date            1398950 non-null  object \n",
            " 3   coordinates     1398950 non-null  object \n",
            " 4   confirmed       1398950 non-null  float64\n",
            " 5   deaths          1398950 non-null  float64\n",
            " 6   recovered       1398950 non-null  float64\n",
            " 7   active          1398950 non-null  float64\n",
            " 8   city_name       1398950 non-null  object \n",
            " 9   Location        1398950 non-null  object \n",
            "dtypes: float64(4), object(6)\n",
            "memory usage: 117.4+ MB\n"
          ]
        }
      ]
    },
    {
      "cell_type": "code",
      "source": [
        "df['active']=df['active'].astype(int)\n",
        "df['deaths']=df['deaths'].astype(int)\n",
        "df['recovered']=df['recovered'].astype(int)\n",
        "df['confirmed']=df['confirmed'].astype(int)\n",
        "df['date']=pd.to_datetime(df['date'])"
      ],
      "metadata": {
        "id": "5_t5BBjlrt5u"
      },
      "execution_count": 60,
      "outputs": []
    },
    {
      "cell_type": "markdown",
      "source": [
        "Merubah tipe data `active` `deaths` `recovered` `confirmed` dari float menjadi tipe data integer dan `'date'` dari string menjadi tipe data date"
      ],
      "metadata": {
        "id": "Jw5PiL3przxs"
      }
    },
    {
      "cell_type": "code",
      "source": [
        "df.info()"
      ],
      "metadata": {
        "colab": {
          "base_uri": "https://localhost:8080/"
        },
        "id": "4xpLg8JosKcF",
        "outputId": "dbd2a188-5f8b-44e8-c394-25418f3b1777"
      },
      "execution_count": 61,
      "outputs": [
        {
          "output_type": "stream",
          "name": "stdout",
          "text": [
            "<class 'pandas.core.frame.DataFrame'>\n",
            "Int64Index: 1398950 entries, 648 to 4125224\n",
            "Data columns (total 10 columns):\n",
            " #   Column          Non-Null Count    Dtype         \n",
            "---  ------          --------------    -----         \n",
            " 0   province_state  1398950 non-null  object        \n",
            " 1   country_region  1398950 non-null  object        \n",
            " 2   date            1398950 non-null  datetime64[ns]\n",
            " 3   coordinates     1398950 non-null  object        \n",
            " 4   confirmed       1398950 non-null  int64         \n",
            " 5   deaths          1398950 non-null  int64         \n",
            " 6   recovered       1398950 non-null  int64         \n",
            " 7   active          1398950 non-null  int64         \n",
            " 8   city_name       1398950 non-null  object        \n",
            " 9   Location        1398950 non-null  object        \n",
            "dtypes: datetime64[ns](1), int64(4), object(5)\n",
            "memory usage: 117.4+ MB\n"
          ]
        }
      ]
    },
    {
      "cell_type": "markdown",
      "source": [
        "## Data Exploration"
      ],
      "metadata": {
        "id": "lUyG6XLJc50C"
      }
    },
    {
      "cell_type": "markdown",
      "source": [],
      "metadata": {
        "id": "kjfu6aKUdBr_"
      }
    }
  ]
}